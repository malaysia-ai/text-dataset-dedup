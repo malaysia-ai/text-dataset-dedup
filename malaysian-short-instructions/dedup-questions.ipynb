{
 "cells": [
  {
   "cell_type": "code",
   "execution_count": 23,
   "id": "8009e792",
   "metadata": {},
   "outputs": [
    {
     "data": {
      "text/plain": [
       "213261"
      ]
     },
     "execution_count": 23,
     "metadata": {},
     "output_type": "execute_result"
    }
   ],
   "source": [
    "from glob import glob\n",
    "import json\n",
    "import re\n",
    "\n",
    "pattern = r\"\\d+\\.\\s(.+)\"\n",
    "already = set()\n",
    "\n",
    "files = glob('generate-questions/*')\n",
    "\n",
    "questions = []\n",
    "for f in files:\n",
    "    with open(f) as fopen:\n",
    "        d = json.load(fopen)\n",
    "    keyword = d['q'][0]\n",
    "    for q in re.findall(pattern, d['r']):\n",
    "        if q in already:\n",
    "            continue\n",
    "        questions.append((q, keyword))\n",
    "    \n",
    "len(questions)"
   ]
  },
  {
   "cell_type": "code",
   "execution_count": 24,
   "id": "cc4f4bab",
   "metadata": {},
   "outputs": [],
   "source": [
    "import string\n",
    "\n",
    "digits = set(string.digits)\n",
    "rejected = ['\\'', '\"', 'http', '\\n', '[', ']', '/', '`']\n",
    "\n",
    "def contains_non_ascii(text):\n",
    "    return any(ord(char) > 127 for char in text)\n",
    "\n",
    "def reject_q(q):\n",
    "    if q is None:\n",
    "        return True\n",
    "    if any([c in q for c in rejected]):\n",
    "        return True\n",
    "    if contains_non_ascii(q):\n",
    "        return True\n",
    "    if len(set(q) & digits):\n",
    "        return True\n",
    "    if len(q) < 20:\n",
    "        return True\n",
    "    if len(q) > 200:\n",
    "        return True\n",
    "    return False"
   ]
  },
  {
   "cell_type": "code",
   "execution_count": 25,
   "id": "fddc3adf",
   "metadata": {
    "scrolled": true
   },
   "outputs": [
    {
     "data": {
      "text/plain": [
       "58"
      ]
     },
     "execution_count": 25,
     "metadata": {},
     "output_type": "execute_result"
    }
   ],
   "source": [
    "from collections import defaultdict\n",
    "\n",
    "filtered_q = defaultdict(list)\n",
    "for q, k in questions:\n",
    "    if len(q) < 10:\n",
    "        continue\n",
    "    if reject_q(q):\n",
    "        continue\n",
    "    \n",
    "    filtered_q[k].append(q)\n",
    "len(filtered_q)"
   ]
  },
  {
   "cell_type": "code",
   "execution_count": 31,
   "id": "60a9f651",
   "metadata": {},
   "outputs": [
    {
     "data": {
      "text/plain": [
       "31"
      ]
     },
     "execution_count": 31,
     "metadata": {},
     "output_type": "execute_result"
    }
   ],
   "source": [
    "len(filtered_q['d3 js'])"
   ]
  },
  {
   "cell_type": "code",
   "execution_count": 54,
   "id": "64cf6d6b",
   "metadata": {
    "scrolled": false
   },
   "outputs": [
    {
     "data": {
      "text/plain": [
       "57000"
      ]
     },
     "execution_count": 54,
     "metadata": {},
     "output_type": "execute_result"
    }
   ],
   "source": [
    "questions = []\n",
    "for k, v in filtered_q.items():\n",
    "    if len(v) < 100:\n",
    "        continue\n",
    "    v = sorted(v, key = lambda x: len(x), reverse = True)\n",
    "    v = [(v_, k) for v_ in v][:1000]\n",
    "    questions.extend(v)\n",
    "    \n",
    "len(questions)"
   ]
  },
  {
   "cell_type": "code",
   "execution_count": 55,
   "id": "eee58538",
   "metadata": {},
   "outputs": [
    {
     "data": {
      "text/plain": [
       "('Bolehkah anda menerangkan langkah-langkah yang diperlukan untuk membuat sistem pengurusan penyediaan semula dalam Go yang berfungsi dengan cekap dan tahan terhadap kegagalan?',\n",
       " 'go distributed system')"
      ]
     },
     "execution_count": 55,
     "metadata": {},
     "output_type": "execute_result"
    }
   ],
   "source": [
    "questions[0]"
   ]
  },
  {
   "cell_type": "code",
   "execution_count": 56,
   "id": "af927235",
   "metadata": {},
   "outputs": [],
   "source": [
    "with open('dedup-questions.json', 'w') as fopen:\n",
    "    json.dump(questions, fopen)"
   ]
  }
 ],
 "metadata": {
  "kernelspec": {
   "display_name": "Python 3 (ipykernel)",
   "language": "python",
   "name": "python3"
  },
  "language_info": {
   "codemirror_mode": {
    "name": "ipython",
    "version": 3
   },
   "file_extension": ".py",
   "mimetype": "text/x-python",
   "name": "python",
   "nbconvert_exporter": "python",
   "pygments_lexer": "ipython3",
   "version": "3.8.10"
  }
 },
 "nbformat": 4,
 "nbformat_minor": 5
}
