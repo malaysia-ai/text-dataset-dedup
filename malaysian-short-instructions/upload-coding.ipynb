{
 "cells": [
  {
   "cell_type": "code",
   "execution_count": 29,
   "id": "5f2f65f8",
   "metadata": {},
   "outputs": [],
   "source": [
    "# !wget https://raw.githubusercontent.com/mesolitica/malaysian-dataset/refs/heads/master/llm-instruction/malaysian-sft/malaysian_sft.py"
   ]
  },
  {
   "cell_type": "code",
   "execution_count": 54,
   "id": "7ee430fc",
   "metadata": {},
   "outputs": [],
   "source": [
    "import json\n",
    "import pandas as pd\n",
    "from glob import glob\n",
    "from tqdm import tqdm\n",
    "from malaysian_sft import accept\n",
    "\n",
    "def contains_mandarin(text):\n",
    "    return any(\n",
    "        '\\u4E00' <= char <= '\\u9FFF' or\n",
    "        '\\u3400' <= char <= '\\u4DBF' or\n",
    "        '\\U00020000' <= char <= '\\U0002EBEF'\n",
    "        for char in text\n",
    "    )\n",
    "\n"
   ]
  },
  {
   "cell_type": "code",
   "execution_count": 60,
   "id": "23f47a30",
   "metadata": {
    "scrolled": true
   },
   "outputs": [
    {
     "data": {
      "text/plain": [
       "56976"
      ]
     },
     "execution_count": 60,
     "metadata": {},
     "output_type": "execute_result"
    }
   ],
   "source": [
    "files = glob('generate-answers/*')\n",
    "len(files)"
   ]
  },
  {
   "cell_type": "code",
   "execution_count": 61,
   "id": "5e58f121",
   "metadata": {},
   "outputs": [
    {
     "name": "stderr",
     "output_type": "stream",
     "text": [
      "100%|█████████████████████████████████████████████████████████████████████████████████| 56976/56976 [00:10<00:00, 5264.69it/s]\n"
     ]
    },
    {
     "data": {
      "text/plain": [
       "56972"
      ]
     },
     "execution_count": 61,
     "metadata": {},
     "output_type": "execute_result"
    }
   ],
   "source": [
    "filtered = []\n",
    "rejected = []\n",
    "for f in tqdm(files):\n",
    "    with open(f) as fopen:\n",
    "        d = json.load(fopen)\n",
    "    q = d['q'][0][0]\n",
    "    keyword = d['q'][0][1]\n",
    "    a = d['r']\n",
    "#     if '*' in q:\n",
    "#         print(q)\n",
    "#         rejected.append(a)\n",
    "#         continue\n",
    "        \n",
    "    if contains_mandarin(a):\n",
    "        rejected.append(a)\n",
    "        continue\n",
    "    \n",
    "#     if not accept(a):\n",
    "#         rejected.append(a)\n",
    "#         continue\n",
    "    \n",
    "    filtered.append({\n",
    "        'question': q,\n",
    "        'answer': a,\n",
    "        'keyword': keyword\n",
    "    })\n",
    "    \n",
    "len(filtered)"
   ]
  },
  {
   "cell_type": "code",
   "execution_count": 62,
   "id": "387b123f",
   "metadata": {},
   "outputs": [
    {
     "data": {
      "text/plain": [
       "4"
      ]
     },
     "execution_count": 62,
     "metadata": {},
     "output_type": "execute_result"
    }
   ],
   "source": [
    "len(rejected)"
   ]
  },
  {
   "cell_type": "code",
   "execution_count": 63,
   "id": "ca804d53",
   "metadata": {},
   "outputs": [],
   "source": [
    "pd.DataFrame(filtered).to_parquet('short-coding.parquet')"
   ]
  },
  {
   "cell_type": "code",
   "execution_count": 64,
   "id": "078d4fd4",
   "metadata": {},
   "outputs": [
    {
     "data": {
      "application/vnd.jupyter.widget-view+json": {
       "model_id": "ba013229e8264eae829e91f2b7322804",
       "version_major": 2,
       "version_minor": 0
      },
      "text/plain": [
       "short-coding.parquet:   0%|          | 0.00/58.0M [00:00<?, ?B/s]"
      ]
     },
     "metadata": {},
     "output_type": "display_data"
    },
    {
     "data": {
      "text/plain": [
       "CommitInfo(commit_url='https://huggingface.co/datasets/malaysia-ai/Malaysian-Short-Instructions/commit/2e6979ce9d32b7bfc748d30c4f13b3df774b89df', commit_message='Upload data/coding-00000-of-00001.parquet with huggingface_hub', commit_description='', oid='2e6979ce9d32b7bfc748d30c4f13b3df774b89df', pr_url=None, repo_url=RepoUrl('https://huggingface.co/datasets/malaysia-ai/Malaysian-Short-Instructions', endpoint='https://huggingface.co', repo_type='dataset', repo_id='malaysia-ai/Malaysian-Short-Instructions'), pr_revision=None, pr_num=None)"
      ]
     },
     "execution_count": 64,
     "metadata": {},
     "output_type": "execute_result"
    }
   ],
   "source": [
    "from huggingface_hub import HfApi\n",
    "api = HfApi()\n",
    "api.upload_file(\n",
    "    path_or_fileobj=\"short-coding.parquet\",\n",
    "    path_in_repo=\"data/coding-00000-of-00001.parquet\",\n",
    "    repo_id=\"malaysia-ai/Malaysian-Short-Instructions\",\n",
    "    repo_type=\"dataset\",\n",
    ")"
   ]
  },
  {
   "cell_type": "code",
   "execution_count": null,
   "id": "60efb645",
   "metadata": {},
   "outputs": [],
   "source": []
  }
 ],
 "metadata": {
  "kernelspec": {
   "display_name": "python3.10",
   "language": "python",
   "name": "python3.10"
  },
  "language_info": {
   "codemirror_mode": {
    "name": "ipython",
    "version": 3
   },
   "file_extension": ".py",
   "mimetype": "text/x-python",
   "name": "python",
   "nbconvert_exporter": "python",
   "pygments_lexer": "ipython3",
   "version": "3.10.15"
  }
 },
 "nbformat": 4,
 "nbformat_minor": 5
}
