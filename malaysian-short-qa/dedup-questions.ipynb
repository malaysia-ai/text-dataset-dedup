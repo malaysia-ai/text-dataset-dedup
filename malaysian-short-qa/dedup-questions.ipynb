{
 "cells": [
  {
   "cell_type": "code",
   "execution_count": 9,
   "id": "8009e792",
   "metadata": {},
   "outputs": [
    {
     "data": {
      "text/plain": [
       "211441"
      ]
     },
     "execution_count": 9,
     "metadata": {},
     "output_type": "execute_result"
    }
   ],
   "source": [
    "from glob import glob\n",
    "import json\n",
    "import re\n",
    "\n",
    "pattern = r\"\\d+\\.\\s(.+)\"\n",
    "\n",
    "questions = []\n",
    "for f in files:\n",
    "    with open(f) as fopen:\n",
    "        d = json.load(fopen)\n",
    "    questions.extend(re.findall(pattern, d['r']))\n",
    "    \n",
    "len(questions)"
   ]
  },
  {
   "cell_type": "code",
   "execution_count": 10,
   "id": "f0277210",
   "metadata": {},
   "outputs": [
    {
     "data": {
      "text/plain": [
       "211441"
      ]
     },
     "execution_count": 10,
     "metadata": {},
     "output_type": "execute_result"
    }
   ],
   "source": [
    "questions = [q for q in questions if len(q) > 10]\n",
    "len(questions)"
   ]
  },
  {
   "cell_type": "code",
   "execution_count": 11,
   "id": "b96ad1ed",
   "metadata": {},
   "outputs": [
    {
     "data": {
      "text/plain": [
       "201318"
      ]
     },
     "execution_count": 11,
     "metadata": {},
     "output_type": "execute_result"
    }
   ],
   "source": [
    "len(set(questions))"
   ]
  }
 ],
 "metadata": {
  "kernelspec": {
   "display_name": "Python 3 (ipykernel)",
   "language": "python",
   "name": "python3"
  },
  "language_info": {
   "codemirror_mode": {
    "name": "ipython",
    "version": 3
   },
   "file_extension": ".py",
   "mimetype": "text/x-python",
   "name": "python",
   "nbconvert_exporter": "python",
   "pygments_lexer": "ipython3",
   "version": "3.8.10"
  }
 },
 "nbformat": 4,
 "nbformat_minor": 5
}
