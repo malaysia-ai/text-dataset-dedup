{
 "cells": [
  {
   "cell_type": "code",
   "execution_count": 1,
   "id": "e84b4934",
   "metadata": {},
   "outputs": [
    {
     "data": {
      "text/plain": [
       "11800"
      ]
     },
     "execution_count": 1,
     "metadata": {},
     "output_type": "execute_result"
    }
   ],
   "source": [
    "with open('keywords') as fopen:\n",
    "    keywords = fopen.read().split('\\n')\n",
    "keywords = [k for k in keywords if len(k)]\n",
    "keywords = keywords * 200\n",
    "len(keywords)"
   ]
  },
  {
   "cell_type": "code",
   "execution_count": 2,
   "id": "88c067d5",
   "metadata": {},
   "outputs": [
    {
     "data": {
      "text/plain": [
       "236000"
      ]
     },
     "execution_count": 2,
     "metadata": {},
     "output_type": "execute_result"
    }
   ],
   "source": [
    "len(keywords) * 20"
   ]
  },
  {
   "cell_type": "code",
   "execution_count": 3,
   "id": "21d8cc4e",
   "metadata": {},
   "outputs": [],
   "source": [
    "prompts = []\n",
    "for k in keywords:\n",
    "    prompt = f\"\"\"\n",
    "```\n",
    "camne nak buat RNN dalam tensorflow\n",
    "camne nk buat websocket guna react\n",
    "camne nk code simple landing page untuk kedai kasut\n",
    "```\n",
    "\n",
    "above are examples short coding question, generate 20 short coding questions related to {k}\n",
    "\"\"\"\n",
    "    prompts.append((k, prompt.strip()))"
   ]
  },
  {
   "cell_type": "code",
   "execution_count": 4,
   "id": "7c265867",
   "metadata": {},
   "outputs": [],
   "source": [
    "!rm -rf generate-questions\n",
    "!mkdir generate-questions"
   ]
  },
  {
   "cell_type": "code",
   "execution_count": 5,
   "id": "d5f417ab",
   "metadata": {},
   "outputs": [],
   "source": [
    "import requests\n",
    "import os\n",
    "import re\n",
    "import json\n",
    "\n",
    "def answer(q, i):\n",
    "    filename = os.path.join('generate-questions', f'{i}.json')\n",
    "    \n",
    "    if os.path.exists(filename) and os.path.getsize(filename) > 200:\n",
    "        return\n",
    "    \n",
    "    for _ in range(5):\n",
    "        try:\n",
    "            headers = {\n",
    "                'accept': 'application/json',\n",
    "                'Content-Type': 'application/json',\n",
    "            }\n",
    "            \n",
    "            messages = [\n",
    "                {'role': 'user', 'content': q[1]}\n",
    "            ]\n",
    "\n",
    "            json_data = {\n",
    "                'model': 'model',\n",
    "                'messages': messages,\n",
    "                'temperature': 1.0,\n",
    "                'top_p': 0.8,\n",
    "                'top_k': 50,\n",
    "                'max_tokens': 1024,\n",
    "                'repetition_penalty': 1.05,\n",
    "            }\n",
    "\n",
    "            response = requests.post('http://localhost:8000/v1/chat/completions', \n",
    "                                     headers=headers, json=json_data)\n",
    "            r = response.json()\n",
    "            r = r['choices'][0]['message']['content']\n",
    "            if len(r.split()) > 20:\n",
    "                with open(filename, 'w') as fopen:\n",
    "                    json.dump({'q': q, 'r': r}, fopen)\n",
    "            \n",
    "                return\n",
    "            else:\n",
    "                print('condition not met', len(r.split()))\n",
    "        except Exception as e:\n",
    "            print(e)\n",
    "            pass"
   ]
  },
  {
   "cell_type": "code",
   "execution_count": 6,
   "id": "137d7249",
   "metadata": {},
   "outputs": [],
   "source": [
    "def consumer(queue, name):\n",
    "    while True:\n",
    "        if queue.qsize() == 0:\n",
    "            break\n",
    "        item = queue.get()\n",
    "        answer(*item)\n",
    "    print(f'consumer {name} done')"
   ]
  },
  {
   "cell_type": "code",
   "execution_count": 7,
   "id": "eef00288",
   "metadata": {},
   "outputs": [],
   "source": [
    "from threading import Thread\n",
    "from queue import Queue\n",
    "\n",
    "queue = Queue()\n",
    "urls = [(q, no) for no, q in enumerate(prompts)]\n",
    "for u in urls:\n",
    "    queue.put(u)\n",
    "    \n",
    "ori_size = queue.qsize()"
   ]
  },
  {
   "cell_type": "code",
   "execution_count": 8,
   "id": "4a14c179",
   "metadata": {},
   "outputs": [],
   "source": [
    "answer(*urls[-2])"
   ]
  },
  {
   "cell_type": "code",
   "execution_count": null,
   "id": "c14cacf2",
   "metadata": {},
   "outputs": [
    {
     "name": "stderr",
     "output_type": "stream",
     "text": [
      " 90%|█████████████████████████████████████████████████████████████████████████▎       | 10676/11800 [3:11:07<13:39,  1.37it/s]"
     ]
    }
   ],
   "source": [
    "from tqdm import tqdm\n",
    "\n",
    "max_worker = 10\n",
    "consumers = [Thread(target=consumer, args=(queue,i)) for i in range(max_worker)]\n",
    "for i in range(len(consumers)):\n",
    "    consumers[i].start()\n",
    "    \n",
    "pbar = tqdm(total=ori_size)\n",
    "last_size = 0\n",
    "while True:\n",
    "    size = queue.qsize()\n",
    "    if size == 0:\n",
    "        break\n",
    "    left = ori_size - size\n",
    "    minus = left - last_size\n",
    "    if minus > 0:\n",
    "        pbar.update(minus)\n",
    "        last_size += minus\n",
    "\n",
    "pbar.close()"
   ]
  },
  {
   "cell_type": "code",
   "execution_count": null,
   "id": "ab0fe230",
   "metadata": {},
   "outputs": [],
   "source": []
  }
 ],
 "metadata": {
  "kernelspec": {
   "display_name": "python3.10",
   "language": "python",
   "name": "python3.10"
  },
  "language_info": {
   "codemirror_mode": {
    "name": "ipython",
    "version": 3
   },
   "file_extension": ".py",
   "mimetype": "text/x-python",
   "name": "python",
   "nbconvert_exporter": "python",
   "pygments_lexer": "ipython3",
   "version": "3.10.15"
  }
 },
 "nbformat": 4,
 "nbformat_minor": 5
}
