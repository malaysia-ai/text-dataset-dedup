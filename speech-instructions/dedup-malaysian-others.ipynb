{
 "cells": [
  {
   "cell_type": "code",
   "execution_count": 1,
   "id": "dbd81da8",
   "metadata": {},
   "outputs": [],
   "source": [
    "# !wget https://gist.githubusercontent.com/huseinzol05/98974ae8c6c7a65d4bc0af9f5003786a/raw/2e06e71ef7349a57bc58cc9913ae6bae1f9f8447/mp.py"
   ]
  },
  {
   "cell_type": "code",
   "execution_count": 2,
   "id": "8887bd2a",
   "metadata": {},
   "outputs": [],
   "source": [
    "from scipy.spatial import KDTree\n",
    "from datasketch import MinHash, MinHashLSH\n",
    "from glob import glob\n",
    "from tqdm import tqdm\n",
    "import numpy as np\n",
    "import mp\n",
    "import pandas as pd\n",
    "import os"
   ]
  },
  {
   "cell_type": "code",
   "execution_count": 3,
   "id": "03dc5983",
   "metadata": {
    "scrolled": false
   },
   "outputs": [
    {
     "data": {
      "text/plain": [
       "555379"
      ]
     },
     "execution_count": 3,
     "metadata": {},
     "output_type": "execute_result"
    }
   ],
   "source": [
    "files = glob('embedding-others/*.npy')\n",
    "len(files)"
   ]
  },
  {
   "cell_type": "code",
   "execution_count": 4,
   "id": "bb360168",
   "metadata": {},
   "outputs": [
    {
     "name": "stderr",
     "output_type": "stream",
     "text": [
      "100%|███████████████████████████████████████████████████████████████████████████████| 555379/555379 [01:50<00:00, 5031.70it/s]\n"
     ]
    }
   ],
   "source": [
    "embeddings = []\n",
    "for f in tqdm(files):\n",
    "    embeddings.append(np.load(f))\n",
    "embeddings = np.array(embeddings)"
   ]
  },
  {
   "cell_type": "code",
   "execution_count": 5,
   "id": "edf99658",
   "metadata": {},
   "outputs": [],
   "source": [
    "from sklearn.preprocessing import normalize\n",
    "\n",
    "def deduplicate_embeddings(embeddings, similarity_threshold=0.9):\n",
    "    \"\"\"\n",
    "    Deduplicate embeddings based on cosine similarity threshold.\n",
    "    \n",
    "    Args:\n",
    "        embeddings: numpy array of shape [N, dim] where N is number of embeddings\n",
    "        similarity_threshold: float between 0 and 1, threshold for considering embeddings as duplicates\n",
    "    \n",
    "    Returns:\n",
    "        unique_indices: indices of unique embeddings\n",
    "        duplicate_groups: list of lists containing indices of similar embeddings\n",
    "    \"\"\"\n",
    "    # Normalize embeddings for cosine similarity\n",
    "    embeddings = normalize(embeddings)\n",
    "    N = embeddings.shape[0]\n",
    "    \n",
    "    # Track which embeddings have been marked as duplicates\n",
    "    is_duplicate = np.zeros(N, dtype=bool)\n",
    "    duplicate_groups = []\n",
    "    unique_indices = []\n",
    "    \n",
    "    # Process embeddings in batches for memory efficiency\n",
    "    batch_size = 300000\n",
    "    \n",
    "    for i in tqdm(range(N)):\n",
    "        if is_duplicate[i]:\n",
    "            continue\n",
    "            \n",
    "        # Calculate similarities for current embedding with remaining embeddings\n",
    "        start_idx = i + 1\n",
    "        similar_indices = [i]\n",
    "        \n",
    "        while start_idx < N:\n",
    "            end_idx = min(start_idx + batch_size, N)\n",
    "            batch_similarities = embeddings[i:i+1] @ embeddings[start_idx:end_idx].T\n",
    "            \n",
    "            # Find similar embeddings in batch\n",
    "            batch_similar = np.where(batch_similarities[0] >= similarity_threshold)[0]\n",
    "            batch_similar_global_idx = batch_similar + start_idx\n",
    "            \n",
    "            # Filter out already marked duplicates\n",
    "            batch_similar_global_idx = batch_similar_global_idx[~is_duplicate[batch_similar_global_idx]]\n",
    "            \n",
    "            if len(batch_similar_global_idx) > 0:\n",
    "                similar_indices.extend(batch_similar_global_idx.tolist())\n",
    "                is_duplicate[batch_similar_global_idx] = True\n",
    "                \n",
    "            start_idx = end_idx\n",
    "            \n",
    "        if len(similar_indices) > 1:\n",
    "            duplicate_groups.append(similar_indices)\n",
    "        else:\n",
    "            unique_indices.append(i)\n",
    "            \n",
    "    return np.array(unique_indices), duplicate_groups"
   ]
  },
  {
   "cell_type": "code",
   "execution_count": 6,
   "id": "040e8a0c",
   "metadata": {
    "scrolled": true
   },
   "outputs": [
    {
     "name": "stderr",
     "output_type": "stream",
     "text": [
      "100%|███████████████████████████████████████████████████████████████████████████████| 555379/555379 [2:00:41<00:00, 76.70it/s]\n"
     ]
    }
   ],
   "source": [
    "unique_indices, duplicate_groups = deduplicate_embeddings(embeddings, similarity_threshold=0.95)"
   ]
  },
  {
   "cell_type": "code",
   "execution_count": 7,
   "id": "9931fc7f",
   "metadata": {},
   "outputs": [
    {
     "data": {
      "text/plain": [
       "(555379, 2)"
      ]
     },
     "execution_count": 7,
     "metadata": {},
     "output_type": "execute_result"
    }
   ],
   "source": [
    "df = pd.read_parquet('filtered-others.parquet')\n",
    "df.shape"
   ]
  },
  {
   "cell_type": "code",
   "execution_count": 8,
   "id": "31da02cd",
   "metadata": {},
   "outputs": [
    {
     "data": {
      "text/plain": [
       "411637"
      ]
     },
     "execution_count": 8,
     "metadata": {},
     "output_type": "execute_result"
    }
   ],
   "source": [
    "len(unique_indices)"
   ]
  },
  {
   "cell_type": "code",
   "execution_count": 9,
   "id": "7665c300",
   "metadata": {},
   "outputs": [],
   "source": [
    "import json\n",
    "\n",
    "with open('deduped-others-95p.json', 'w') as fopen:\n",
    "    json.dump({\n",
    "        'unique_indices': unique_indices.tolist(),\n",
    "        'duplicate_groups': duplicate_groups,\n",
    "    }, fopen)"
   ]
  },
  {
   "cell_type": "code",
   "execution_count": 11,
   "id": "8bc16c26",
   "metadata": {},
   "outputs": [
    {
     "data": {
      "application/vnd.jupyter.widget-view+json": {
       "model_id": "676d973dc4ae458ca056cf9865ecfcfe",
       "version_major": 2,
       "version_minor": 0
      },
      "text/plain": [
       "filtered-others.parquet:   0%|          | 0.00/50.5M [00:00<?, ?B/s]"
      ]
     },
     "metadata": {},
     "output_type": "display_data"
    },
    {
     "data": {
      "text/plain": [
       "CommitInfo(commit_url='https://huggingface.co/datasets/malaysia-ai/dedup-Malaysian-Emilia/commit/b90f6847c326fb0ad81043e67ab2e70ac6748bb9', commit_message='Upload malaysian-others/filtered-others.parquet with huggingface_hub', commit_description='', oid='b90f6847c326fb0ad81043e67ab2e70ac6748bb9', pr_url=None, repo_url=RepoUrl('https://huggingface.co/datasets/malaysia-ai/dedup-Malaysian-Emilia', endpoint='https://huggingface.co', repo_type='dataset', repo_id='malaysia-ai/dedup-Malaysian-Emilia'), pr_revision=None, pr_num=None)"
      ]
     },
     "execution_count": 11,
     "metadata": {},
     "output_type": "execute_result"
    }
   ],
   "source": [
    "from huggingface_hub import HfApi\n",
    "api = HfApi()\n",
    "api.upload_file(\n",
    "    path_or_fileobj=\"filtered-others.parquet\",\n",
    "    path_in_repo=\"malaysian-others/filtered-others.parquet\",\n",
    "    repo_id=\"malaysia-ai/dedup-malaysian-speakers\",\n",
    "    repo_type=\"dataset\",\n",
    ")"
   ]
  },
  {
   "cell_type": "code",
   "execution_count": 12,
   "id": "0b177909",
   "metadata": {},
   "outputs": [
    {
     "data": {
      "text/plain": [
       "CommitInfo(commit_url='https://huggingface.co/datasets/malaysia-ai/dedup-Malaysian-Emilia/commit/cc44ddfd3e7cbd286fd8b396416bb3da6f5ea8b8', commit_message='Upload malaysia-others/deduped-95p.json with huggingface_hub', commit_description='', oid='cc44ddfd3e7cbd286fd8b396416bb3da6f5ea8b8', pr_url=None, repo_url=RepoUrl('https://huggingface.co/datasets/malaysia-ai/dedup-Malaysian-Emilia', endpoint='https://huggingface.co', repo_type='dataset', repo_id='malaysia-ai/dedup-Malaysian-Emilia'), pr_revision=None, pr_num=None)"
      ]
     },
     "execution_count": 12,
     "metadata": {},
     "output_type": "execute_result"
    }
   ],
   "source": [
    "from huggingface_hub import HfApi\n",
    "api = HfApi()\n",
    "api.upload_file(\n",
    "    path_or_fileobj=\"deduped-others-95p.json\",\n",
    "    path_in_repo=\"malaysia-others/deduped-95p.json\",\n",
    "    repo_id=\"malaysia-ai/dedup-malaysian-speakers\",\n",
    "    repo_type=\"dataset\",\n",
    ")"
   ]
  },
  {
   "cell_type": "code",
   "execution_count": 13,
   "id": "931da9db",
   "metadata": {},
   "outputs": [
    {
     "name": "stderr",
     "output_type": "stream",
     "text": [
      "100%|██████████████████████████████████████████████████████████████████████████████| 411637/411637 [00:07<00:00, 55720.09it/s]\n"
     ]
    },
    {
     "data": {
      "text/plain": [
       "411637"
      ]
     },
     "execution_count": 13,
     "metadata": {},
     "output_type": "execute_result"
    }
   ],
   "source": [
    "selected = []\n",
    "for i in tqdm(unique_indices):\n",
    "    selected.append(df.iloc[i].to_dict())\n",
    "    \n",
    "len(selected)"
   ]
  },
  {
   "cell_type": "code",
   "execution_count": 14,
   "id": "72fef922",
   "metadata": {},
   "outputs": [
    {
     "data": {
      "text/plain": [
       "{'audio': '/home/husein/ssd4/filtered-24k_processed/00295-25/00295-25_0.mp3',\n",
       " 'transcription': 'As a disclaimer, we do own some shares mentioned in the slides and as another disclaimer, none of what we say should be taken as financial advice. This is purely educational.'}"
      ]
     },
     "execution_count": 14,
     "metadata": {},
     "output_type": "execute_result"
    }
   ],
   "source": [
    "selected[0]"
   ]
  },
  {
   "cell_type": "code",
   "execution_count": 15,
   "id": "15c6da7b",
   "metadata": {},
   "outputs": [
    {
     "data": {
      "text/plain": [
       "(411637, 411637)"
      ]
     },
     "execution_count": 15,
     "metadata": {},
     "output_type": "execute_result"
    }
   ],
   "source": [
    "len(set([os.path.split(s['audio'])[1] for s in selected])), len(selected)"
   ]
  },
  {
   "cell_type": "code",
   "execution_count": 16,
   "id": "f7b06c23",
   "metadata": {},
   "outputs": [],
   "source": [
    "!mkdir dedup-others"
   ]
  },
  {
   "cell_type": "code",
   "execution_count": 17,
   "id": "17c56f91",
   "metadata": {},
   "outputs": [],
   "source": [
    "import shutil\n",
    "import os\n",
    "# shutil.copyfile(src, dst)\n",
    "\n",
    "def loop(rows):\n",
    "    rows, _ = rows\n",
    "    for r in tqdm(rows):\n",
    "        f = os.path.split(r['audio'])[1]\n",
    "        new_f = os.path.join('dedup-others', f)\n",
    "        shutil.copyfile(r['audio'], new_f)"
   ]
  },
  {
   "cell_type": "code",
   "execution_count": 18,
   "id": "1c54a043",
   "metadata": {},
   "outputs": [
    {
     "name": "stderr",
     "output_type": "stream",
     "text": [
      "100%|█████████████████████████████████████████████████████████████████████████████████| 41163/41163 [00:34<00:00, 1181.23it/s]\n",
      "100%|█████████████████████████████████████████████████████████████████████████████████████████| 7/7 [00:00<00:00, 1011.76it/s]\n",
      "100%|█████████████████████████████████████████████████████████████████████████████████| 41163/41163 [00:34<00:00, 1189.91it/s]\n",
      "100%|█████████████████████████████████████████████████████████████████████████████████| 41163/41163 [00:35<00:00, 1163.35it/s]\n",
      "100%|█████████████████████████████████████████████████████████████████████████████████| 41163/41163 [00:36<00:00, 1136.56it/s]\n",
      "100%|█████████████████████████████████████████████████████████████████████████████████| 41163/41163 [00:39<00:00, 1040.06it/s]\n",
      "100%|██████████████████████████████████████████████████████████████████████████████████| 41163/41163 [00:41<00:00, 986.66it/s]\n",
      "100%|██████████████████████████████████████████████████████████████████████████████████| 41163/41163 [00:41<00:00, 996.32it/s]\n",
      "100%|██████████████████████████████████████████████████████████████████████████████████| 41163/41163 [00:41<00:00, 997.80it/s]\n",
      "100%|█████████████████████████████████████████████████████████████████████████████████| 41163/41163 [00:40<00:00, 1016.68it/s]\n",
      "100%|█████████████████████████████████████████████████████████████████████████████████| 41163/41163 [00:41<00:00, 1002.07it/s]\n"
     ]
    }
   ],
   "source": [
    "mp.multiprocessing(selected, loop, cores = 10, returned = False)"
   ]
  },
  {
   "cell_type": "code",
   "execution_count": 19,
   "id": "3e96746b",
   "metadata": {},
   "outputs": [
    {
     "name": "stdout",
     "output_type": "stream",
     "text": [
      "15G\tdedup-others\r\n"
     ]
    }
   ],
   "source": [
    "!du -hs dedup-others"
   ]
  },
  {
   "cell_type": "code",
   "execution_count": 20,
   "id": "6468bd76",
   "metadata": {},
   "outputs": [],
   "source": [
    "for i in range(len(selected)):\n",
    "    f = os.path.split(selected[i]['audio'])[1]\n",
    "    new_f = os.path.join('dedup-others', f)\n",
    "    selected[i]['audio'] = new_f"
   ]
  },
  {
   "cell_type": "code",
   "execution_count": 21,
   "id": "c3625c14",
   "metadata": {},
   "outputs": [
    {
     "data": {
      "text/plain": [
       "{'audio': 'dedup-others/01874-5_3.mp3',\n",
       " 'transcription': 'Di pihak mahkamah, kes jenayah seksual kanak-kanak diberikan perhatian khusus, menerusi pengendalian prosedur dalam mahkamah khas jenayah seksual kanak-kanak.'}"
      ]
     },
     "execution_count": 21,
     "metadata": {},
     "output_type": "execute_result"
    }
   ],
   "source": [
    "selected[1]"
   ]
  },
  {
   "cell_type": "code",
   "execution_count": 22,
   "id": "42a5fae9",
   "metadata": {},
   "outputs": [
    {
     "data": {
      "text/html": [
       "\n",
       "                <audio  controls=\"controls\" >\n",
       "                    <source src=\"data:audio/mpeg;base64,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\" type=\"audio/mpeg\" />\n",
       "                    Your browser does not support the audio element.\n",
       "                </audio>\n",
       "              "
      ],
      "text/plain": [
       "<IPython.lib.display.Audio object>"
      ]
     },
     "execution_count": 22,
     "metadata": {},
     "output_type": "execute_result"
    }
   ],
   "source": [
    "import IPython.display as ipd\n",
    "ipd.Audio(selected[1]['audio'])"
   ]
  },
  {
   "cell_type": "code",
   "execution_count": 23,
   "id": "d4aea6cb",
   "metadata": {},
   "outputs": [],
   "source": [
    "pd.DataFrame(selected).to_parquet('dedup-malaysian-others.parquet')"
   ]
  },
  {
   "cell_type": "code",
   "execution_count": 24,
   "id": "96b5188a",
   "metadata": {},
   "outputs": [
    {
     "data": {
      "application/vnd.jupyter.widget-view+json": {
       "model_id": "d4d8614cdf4641539e232ab59d86ef9b",
       "version_major": 2,
       "version_minor": 0
      },
      "text/plain": [
       "dedup-malaysian-others.parquet:   0%|          | 0.00/37.0M [00:00<?, ?B/s]"
      ]
     },
     "metadata": {},
     "output_type": "display_data"
    },
    {
     "data": {
      "text/plain": [
       "CommitInfo(commit_url='https://huggingface.co/datasets/malaysia-ai/dedup-Malaysian-Emilia/commit/e168fb8a5fe34aabe35a85fb63cb77833a716d53', commit_message='Upload data/dedup_malaysian_others-00000-of-00001.parquet with huggingface_hub', commit_description='', oid='e168fb8a5fe34aabe35a85fb63cb77833a716d53', pr_url=None, repo_url=RepoUrl('https://huggingface.co/datasets/malaysia-ai/dedup-Malaysian-Emilia', endpoint='https://huggingface.co', repo_type='dataset', repo_id='malaysia-ai/dedup-Malaysian-Emilia'), pr_revision=None, pr_num=None)"
      ]
     },
     "execution_count": 24,
     "metadata": {},
     "output_type": "execute_result"
    }
   ],
   "source": [
    "api.upload_file(\n",
    "    path_or_fileobj=\"dedup-malaysian-others.parquet\",\n",
    "    path_in_repo=\"data/dedup_malaysian_others-00000-of-00001.parquet\",\n",
    "    repo_id=\"malaysia-ai/dedup-malaysian-speakers\",\n",
    "    repo_type=\"dataset\",\n",
    ")"
   ]
  }
 ],
 "metadata": {
  "kernelspec": {
   "display_name": "python3.10",
   "language": "python",
   "name": "python3.10"
  },
  "language_info": {
   "codemirror_mode": {
    "name": "ipython",
    "version": 3
   },
   "file_extension": ".py",
   "mimetype": "text/x-python",
   "name": "python",
   "nbconvert_exporter": "python",
   "pygments_lexer": "ipython3",
   "version": "3.10.15"
  }
 },
 "nbformat": 4,
 "nbformat_minor": 5
}
