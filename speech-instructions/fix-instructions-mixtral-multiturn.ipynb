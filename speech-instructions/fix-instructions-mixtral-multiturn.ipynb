{
 "cells": [
  {
   "cell_type": "code",
   "execution_count": 1,
   "id": "cb03c4a6",
   "metadata": {},
   "outputs": [],
   "source": [
    "import pandas as pd\n",
    "from tqdm import tqdm\n",
    "import re\n",
    "import json\n",
    "import string\n",
    "\n",
    "digits = set(string.digits)\n",
    "rejected = ['\\'', '\"', 'http', '\\n', '[', ']', '/', '`']\n",
    "\n",
    "def contains_non_ascii(text):\n",
    "    return any(ord(char) > 127 for char in text)\n",
    "\n",
    "def reject_q(q):\n",
    "    if q is None:\n",
    "        return True\n",
    "    if any([c in q for c in rejected]):\n",
    "        return True\n",
    "    if contains_non_ascii(q):\n",
    "        return True\n",
    "    if len(set(q) & digits):\n",
    "        return True\n",
    "    if len(q) < 20:\n",
    "        return True\n",
    "    if len(q) > 200:\n",
    "        return True\n",
    "    return False\n",
    "\n",
    "def reject_a(a):\n",
    "    if a is None:\n",
    "        return True\n",
    "    if '------' in a:\n",
    "        return True\n",
    "    return False\n",
    "\n",
    "def contains_tamil(text):\n",
    "    tamil_pattern = re.compile(r'[\\u0B80-\\u0BFF]')\n",
    "    return bool(tamil_pattern.search(text))\n",
    "\n",
    "def contains_mandarin(text):\n",
    "    return any(\n",
    "        '\\u4E00' <= char <= '\\u9FFF' or\n",
    "        '\\u3400' <= char <= '\\u4DBF' or\n",
    "        '\\U00020000' <= char <= '\\U0002EBEF'\n",
    "        for char in text\n",
    "    )"
   ]
  },
  {
   "cell_type": "code",
   "execution_count": 2,
   "id": "2fcc57af",
   "metadata": {},
   "outputs": [],
   "source": [
    "def generate_and_tokenize_prompt(row):\n",
    "    if '<bot>:' in row['input'] and row['output'] is None:\n",
    "        inputs, outputs = [], []\n",
    "        splitted = row['input'].split('<bot>:')\n",
    "        for i in range(len(splitted) - 1):\n",
    "            if i == 0:\n",
    "                human = splitted[i].replace('<manusia>:', '')\n",
    "            else:\n",
    "                try:\n",
    "                    human = splitted[i].split('<manusia>:')[1]\n",
    "                except BaseException:\n",
    "                    continue\n",
    "            bot = splitted[i + 1].split('<manusia>:')[0]\n",
    "            inputs.append(human)\n",
    "            outputs.append(bot)\n",
    "    else:\n",
    "        inputs = [row['input']]\n",
    "        outputs = [row['output']]\n",
    "\n",
    "    chat = []\n",
    "    if row['prompt_input'] is not None and len(row['prompt_input']):\n",
    "        chat.append({'role': 'system', 'content': row['prompt_input'].strip()})\n",
    "    for input, output in zip(inputs, outputs):\n",
    "        chat.extend([\n",
    "            {'role': 'user', 'content': input.strip()},\n",
    "            {'role': 'assistant', 'content': output.strip()},\n",
    "        ])\n",
    "    return chat"
   ]
  },
  {
   "cell_type": "code",
   "execution_count": 11,
   "id": "25171560",
   "metadata": {},
   "outputs": [
    {
     "name": "stderr",
     "output_type": "stream",
     "text": [
      "103242it [00:08, 11716.87it/s]\n",
      "135770it [00:13, 9864.33it/s] \n"
     ]
    },
    {
     "data": {
      "text/plain": [
       "241115"
      ]
     },
     "execution_count": 11,
     "metadata": {},
     "output_type": "execute_result"
    }
   ],
   "source": [
    "mixtral_conversation = []\n",
    "already = set()\n",
    "\n",
    "global_break = False\n",
    "with open('mixtral-conversation-stupid.jsonl') as fopen:\n",
    "    for l in fopen:\n",
    "        if global_break:\n",
    "            break\n",
    "        l = json.loads(l)\n",
    "        if len(l) % 2 != 0:\n",
    "            l = l[:-1]\n",
    "        for i in range(0, len(l), 2):\n",
    "            q = l[i]['content_ms']\n",
    "            a = l[i + 1]['content_ms']\n",
    "            if reject_q(q):\n",
    "                continue\n",
    "            if reject_a(a):\n",
    "                continue\n",
    "            if q in already:\n",
    "                continue\n",
    "            \n",
    "            mixtral_conversation.append((l[i: i + 2], l))\n",
    "            already.add(q)\n",
    "            if len(mixtral_conversation) >= 50000:\n",
    "                global_break = True\n",
    "                break\n",
    "        \n",
    "global_break = False           \n",
    "with open('mixtral-critics-malaysia-multiturn.jsonl') as fopen:\n",
    "    for l in tqdm(fopen):\n",
    "        if global_break:\n",
    "            break\n",
    "        l = json.loads(l)\n",
    "        if len(l) % 2 != 0:\n",
    "            l = l[:-1]\n",
    "        for i in range(0, len(l), 2):\n",
    "            q = l[i]['content_ms']\n",
    "            a = l[i + 1]['content_ms']\n",
    "            if reject_q(q):\n",
    "                continue\n",
    "            if reject_a(a):\n",
    "                continue\n",
    "            if q in already:\n",
    "                continue\n",
    "            mixtral_conversation.append((l[i: i + 2], l))\n",
    "            already.add(q)\n",
    "            if len(mixtral_conversation) >= 150000:\n",
    "                global_break = True\n",
    "                break\n",
    "                \n",
    "global_break = False           \n",
    "with open('mixtral-critics-politician-multiturn.jsonl') as fopen:\n",
    "    for l in tqdm(fopen):\n",
    "        if global_break:\n",
    "            break\n",
    "        l = json.loads(l)\n",
    "        if len(l) % 2 != 0:\n",
    "            l = l[:-1]\n",
    "        for i in range(0, len(l), 2):\n",
    "            q = l[i]['content_ms']\n",
    "            a = l[i + 1]['content_ms']\n",
    "            if reject_q(q):\n",
    "                continue\n",
    "            if reject_a(a):\n",
    "                continue\n",
    "            if q in already:\n",
    "                continue\n",
    "            mixtral_conversation.append((l[i: i + 2], l))\n",
    "            already.add(q)\n",
    "            if len(mixtral_conversation) >= 250000:\n",
    "                global_break = True\n",
    "                break\n",
    "                \n",
    "len(mixtral_conversation)"
   ]
  },
  {
   "cell_type": "code",
   "execution_count": 27,
   "id": "fc7c6f50",
   "metadata": {},
   "outputs": [
    {
     "name": "stderr",
     "output_type": "stream",
     "text": [
      "100%|██████████████████████████████████████████████████████████████████████████████| 241115/241115 [00:12<00:00, 19737.10it/s]\n"
     ]
    },
    {
     "data": {
      "text/plain": [
       "241115"
      ]
     },
     "execution_count": 27,
     "metadata": {},
     "output_type": "execute_result"
    }
   ],
   "source": [
    "import copy\n",
    "\n",
    "multiturn = {}\n",
    "for i in tqdm(mixtral_conversation):\n",
    "    \n",
    "    ori_q = i[0][0]['content_ms']\n",
    "    i = copy.deepcopy(i)\n",
    "    \n",
    "    d = []\n",
    "    for i_ in i[1]:\n",
    "        q = i_.pop('content_ms')\n",
    "        if q == ori_q:\n",
    "            i_['content'] = [{\"type\": \"audio\", \"audio_url\": \"audio.wav\"}]\n",
    "        else:\n",
    "            i_['content'] = q\n",
    "        d.append(i_)\n",
    "    multiturn[ori_q] = json.dumps(d)\n",
    "len(multiturn)"
   ]
  },
  {
   "cell_type": "code",
   "execution_count": 28,
   "id": "c951caf0",
   "metadata": {},
   "outputs": [
    {
     "data": {
      "text/plain": [
       "'Mengapa terdapat protes yang meluas dan rasa tidak puas hati orang ramai semasa Najib Razak memegang jawatan Perdana Menteri, dan bagaimana pentadbirannya bertindak balas terhadap protes ini?'"
      ]
     },
     "execution_count": 28,
     "metadata": {},
     "output_type": "execute_result"
    }
   ],
   "source": [
    "ori_q"
   ]
  },
  {
   "cell_type": "code",
   "execution_count": 29,
   "id": "937d25b8",
   "metadata": {
    "scrolled": true
   },
   "outputs": [
    {
     "data": {
      "text/plain": [
       "'[{\"role\": \"user\", \"content\": [{\"type\": \"audio\", \"audio_url\": \"audio.wav\"}]}, {\"role\": \"assistant\", \"content\": \"Semasa Najib Razak memegang jawatan Perdana Menteri Malaysia dari 2009 hingga 2018, terdapat beberapa contoh protes yang meluas dan rasa tidak puas hati orang ramai. Berikut adalah beberapa sebab utama dan tindak balas kerajaan:\\\\n\\\\n1. Bersih Rallies: Pergerakan Bersih (Pemprosesan untuk Pilihan Raya Bersih dan Adil) menganjurkan beberapa perhimpunan yang menuntut pembaharuan pilihan raya, termasuk pilihan raya bebas dan adil, daftar pemilih bersih dan hak untuk mengundi semua rakyat. Perhimpunan Bersih pertama pada tahun 2007 menyaksikan peratusan keluar mengundi besar-besaran lebih 40,000 orang, walaupun kerajaan mengharamkan. Perhimpunan Bersih seterusnya pada 2011, 2012, dan 2015 menyaksikan lebih ramai orang, dengan puluhan ribu orang membantah keengganan kerajaan untuk memperbaharui sistem pilihan raya. Sambutan kerajaan terhadap perhimpunan ini selalunya berat, dengan penggunaan gas pemedih mata, meriam air, dan penangkapan aktivis dan pemimpin pembangkang.\\\\n2. Skandal 1MDB: Skandal 1Malaysia Development Berhad (1MDB) ialah skandal kewangan yang melibatkan dana pelaburan milik kerajaan yang ditubuhkan oleh Najib Razak pada 2009. Skandal itu berkisar tentang dakwaan pengubahan wang haram, penyelewengan, dan rasuah, dengan berbilion dolar dilaporkan diseleweng daripada dana itu. Skandal itu membawa kepada kemarahan orang ramai, dengan ramai orang menuduh Najib Razak rasuah dan menuntut peletakan jawatannya. Sambutan kerajaan terhadap skandal itu adalah untuk menafikan sebarang salah laku, dan untuk menangkap dan mendakwa beberapa individu yang dikaitkan dengan 1MDB, termasuk pemimpin dan aktivis pembangkang.\\\\n3. Cukai Barang dan Perkhidmatan (GST): Pelaksanaan Cukai Barang dan Perkhidmatan (GST) pada 2015 telah mendapat rasa tidak puas hati orang ramai yang meluas, dengan ramai orang mengadu tentang peningkatan kos sara hidup dan kekurangan ketelusan dalam pengendalian kerajaan terhadap cukai itu. GST akhirnya dimansuhkan pada 2018, selepas gabungan pembangkang memenangi pilihan raya umum.\\\\n4. Kebebasan bersuara: Semasa Najib Razak memegang jawatan Perdana Menteri, terdapat beberapa contoh kerajaan menyekat kebebasan bersuara, termasuk penangkapan dan gangguan wartawan, penulis blog dan aktivis. Kerajaan juga memperkenalkan beberapa undang-undang yang menindas, seperti Akta Hasutan dan Akta Majlis Keselamatan Negara, yang dikritik secara meluas kerana menyekat perbezaan pendapat dan menyekat kebebasan awam.\\\\n\\\\nSambutan kerajaan terhadap protes dan rasa tidak puas hati orang ramai ini selalunya berat, dengan penggunaan kekerasan, penangkapan, dan undang-undang yang menindas untuk menutup mulut pengkritik dan mengekalkan kawalan. Bagaimanapun, kemenangan gabungan pembangkang dalam pilihan raya umum 2018 dilihat sebagai penolakan dasar Najib Razak dan kejayaan untuk demokrasi dan kebebasan awam di Malaysia.\"}]'"
      ]
     },
     "execution_count": 29,
     "metadata": {},
     "output_type": "execute_result"
    }
   ],
   "source": [
    "multiturn[ori_q]"
   ]
  },
  {
   "cell_type": "code",
   "execution_count": 30,
   "id": "8b661fe7",
   "metadata": {},
   "outputs": [],
   "source": [
    "with open('fix-instructions-mixtral-multiturn.json', 'w') as fopen:\n",
    "    json.dump(multiturn, fopen)"
   ]
  },
  {
   "cell_type": "code",
   "execution_count": 31,
   "id": "50ad20b4",
   "metadata": {},
   "outputs": [
    {
     "name": "stdout",
     "output_type": "stream",
     "text": [
      "-rw-rw-r-- 1 husein husein 1.6G Feb  15 22:35 fix-instructions-mixtral-multiturn.json\r\n"
     ]
    }
   ],
   "source": [
    "!ls -lh fix-instructions-mixtral-multiturn.json"
   ]
  }
 ],
 "metadata": {
  "kernelspec": {
   "display_name": "python3.10",
   "language": "python",
   "name": "python3.10"
  },
  "language_info": {
   "codemirror_mode": {
    "name": "ipython",
    "version": 3
   },
   "file_extension": ".py",
   "mimetype": "text/x-python",
   "name": "python",
   "nbconvert_exporter": "python",
   "pygments_lexer": "ipython3",
   "version": "3.10.15"
  }
 },
 "nbformat": 4,
 "nbformat_minor": 5
}
