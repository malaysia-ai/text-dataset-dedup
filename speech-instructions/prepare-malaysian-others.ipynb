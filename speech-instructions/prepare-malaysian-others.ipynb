{
 "cells": [
  {
   "cell_type": "code",
   "execution_count": 1,
   "id": "3c883f91",
   "metadata": {},
   "outputs": [],
   "source": [
    "# !wget https://huggingface.co/Zyphra/Zonos-v0.1-speaker-embedding/resolve/main/ResNet293_SimAM_ASP_base.pt"
   ]
  },
  {
   "cell_type": "code",
   "execution_count": 2,
   "id": "bf4cd179",
   "metadata": {},
   "outputs": [],
   "source": [
    "import os\n",
    "\n",
    "os.environ['CUDA_VISIBLE_DEVICES'] = '1'\n",
    "os.environ['TF_FORCE_GPU_ALLOW_GROWTH'] = 'true'"
   ]
  },
  {
   "cell_type": "code",
   "execution_count": 3,
   "id": "1ac7cbf3",
   "metadata": {},
   "outputs": [],
   "source": [
    "import pandas as pd\n",
    "import numpy as np\n",
    "from tqdm import tqdm\n",
    "import torchaudio"
   ]
  },
  {
   "cell_type": "code",
   "execution_count": 8,
   "id": "56d3111e",
   "metadata": {
    "scrolled": true
   },
   "outputs": [
    {
     "name": "stderr",
     "output_type": "stream",
     "text": [
      "100%|████████████████████████████████████████████████████████████████████████████| 2033890/2033890 [00:20<00:00, 97450.43it/s]\n"
     ]
    },
    {
     "data": {
      "text/plain": [
       "555379"
      ]
     },
     "execution_count": 8,
     "metadata": {},
     "output_type": "execute_result"
    }
   ],
   "source": [
    "df = pd.read_parquet('/home/husein/ssd4/verify-text.parquet')\n",
    "filtered = []\n",
    "for i in tqdm(range(len(df))):\n",
    "    f = df['audio'].iloc[i]\n",
    "    \n",
    "    if 'parlimen-24k' not in f and 'podcast_processed' not in f and 'dialects_processed' not in f:\n",
    "        row = df.iloc[i].to_dict()\n",
    "        f = os.path.join('/home/husein/ssd4/', row['audio'])\n",
    "        row['audio'] = f\n",
    "        filtered.append(row)\n",
    "    \n",
    "    \n",
    "len(filtered)"
   ]
  },
  {
   "cell_type": "code",
   "execution_count": 9,
   "id": "c358a3f7",
   "metadata": {},
   "outputs": [
    {
     "data": {
      "text/plain": [
       "555379"
      ]
     },
     "execution_count": 9,
     "metadata": {},
     "output_type": "execute_result"
    }
   ],
   "source": [
    "len(filtered)"
   ]
  },
  {
   "cell_type": "code",
   "execution_count": 12,
   "id": "54d9bd5b",
   "metadata": {},
   "outputs": [],
   "source": [
    "pd.DataFrame(filtered).to_parquet('filtered-others.parquet')"
   ]
  }
 ],
 "metadata": {
  "kernelspec": {
   "display_name": "python3.10",
   "language": "python",
   "name": "python3.10"
  },
  "language_info": {
   "codemirror_mode": {
    "name": "ipython",
    "version": 3
   },
   "file_extension": ".py",
   "mimetype": "text/x-python",
   "name": "python",
   "nbconvert_exporter": "python",
   "pygments_lexer": "ipython3",
   "version": "3.10.15"
  }
 },
 "nbformat": 4,
 "nbformat_minor": 5
}
