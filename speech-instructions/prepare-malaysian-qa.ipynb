{
 "cells": [
  {
   "cell_type": "code",
   "execution_count": 1,
   "id": "55737dda",
   "metadata": {},
   "outputs": [],
   "source": [
    "# !wget https://huggingface.co/datasets/mesolitica/Malaysian-SFT/resolve/main/data/ayat_aktif_pasif-00000-of-00001.parquet"
   ]
  },
  {
   "cell_type": "code",
   "execution_count": 2,
   "id": "2d9f19d4",
   "metadata": {},
   "outputs": [],
   "source": [
    "# !wget https://huggingface.co/datasets/azrilhafizi/tatabahasa/resolve/main/tatabahasa.jsonl\n",
    "# !wget https://huggingface.co/datasets/azrilhafizi/MaLLM-Bench/resolve/main/all.json"
   ]
  },
  {
   "cell_type": "code",
   "execution_count": 5,
   "id": "fdf371b4",
   "metadata": {},
   "outputs": [],
   "source": [
    "import pandas as pd\n",
    "import json\n",
    "import re\n",
    "import random"
   ]
  },
  {
   "cell_type": "code",
   "execution_count": 6,
   "id": "c55fce58",
   "metadata": {},
   "outputs": [
    {
     "data": {
      "text/plain": [
       "610804"
      ]
     },
     "execution_count": 6,
     "metadata": {},
     "output_type": "execute_result"
    }
   ],
   "source": [
    "speakers = pd.read_parquet('dedup-malaysia-parliament.parquet').to_dict(orient = 'records')\n",
    "len(speakers)"
   ]
  },
  {
   "cell_type": "code",
   "execution_count": 7,
   "id": "55dbc854",
   "metadata": {},
   "outputs": [
    {
     "data": {
      "text/plain": [
       "(1284, 6564)"
      ]
     },
     "execution_count": 7,
     "metadata": {},
     "output_type": "execute_result"
    }
   ],
   "source": [
    "tatabahasa = []\n",
    "mallm = []\n",
    "\n",
    "ABCDE = 'ABCDE'\n",
    "sound = {\n",
    "    'A': 'Ae',\n",
    "    'B': 'Bee',\n",
    "    'C': 'See',\n",
    "    'D': 'Dee',\n",
    "    'E': 'Eee',\n",
    "}\n",
    "\n",
    "with open('tatabahasa.jsonl') as fopen:\n",
    "    for l in fopen:\n",
    "        l = json.loads(l)\n",
    "        answer = None\n",
    "        answer_text = None\n",
    "        min_len = 999\n",
    "        for k, v in l['choices'].items():\n",
    "            answer_text = v['text'].strip()\n",
    "            min_len = min(min_len, len(answer_text))\n",
    "            if v['answer']:\n",
    "                answer = k\n",
    "\n",
    "        if min_len < 3:\n",
    "            continue\n",
    "        if answer is None:\n",
    "            continue\n",
    "        \n",
    "        choices = []\n",
    "        for k, v in l['choices'].items():\n",
    "            t = v['text']\n",
    "            choices.append(f'{k}. {t}')\n",
    "            \n",
    "        q = l['instruction']\n",
    "        if l['question'] is not None:\n",
    "            q = q + '\\n' + l['question']\n",
    "        \n",
    "        question = q + '\\n\\n' + '\\n'.join(choices)\n",
    "        \n",
    "        choices = []\n",
    "        for k, v in l['choices'].items():\n",
    "            t = v['text'].replace(',', '')\n",
    "            choices.append(f'{sound[k]} , {t} .')\n",
    "            \n",
    "        pronunciation = q + '\\n\\n' + ' '.join(choices)\n",
    "        pronunciation = re.sub(r'_+', ', Tempat Kosong , ', pronunciation).replace('\\n', ' ')\n",
    "        pronunciation = re.sub(r'[ ]+', ' ', pronunciation).strip()\n",
    "            \n",
    "        tatabahasa.append({\n",
    "            'question': question,\n",
    "            'pronunciation': pronunciation,\n",
    "            'answer': f'{answer}. {answer_text}'\n",
    "        })\n",
    "        \n",
    "with open('all.json') as fopen:\n",
    "    d = json.load(fopen)\n",
    "    \n",
    "for d_ in d:\n",
    "    choices = []\n",
    "    min_len = 999\n",
    "    for no, t in enumerate(d_['options']):\n",
    "        choices.append(f'{ABCDE[no]}. {t}')\n",
    "        min_len = min(min_len, len(t))\n",
    "    if min_len < 3:\n",
    "        continue\n",
    "    \n",
    "    question = d_['question'] + '\\n\\n' + '\\n'.join(choices)\n",
    "    \n",
    "    choices = []\n",
    "    for no, t in enumerate(d_['options']):\n",
    "        choices.append(f'{sound[ABCDE[no]]} , {t} .')\n",
    "        \n",
    "    pronunciation = d_['question'] + '\\n\\n' + '\\n'.join(choices)\n",
    "    pronunciation = re.sub(r'_+', ', Tempat Kosong , ', pronunciation).replace('\\n', ' ').replace('%', ' peratus ')\n",
    "    pronunciation = re.sub(r'[ ]+', ' ', pronunciation).strip()\n",
    "        \n",
    "    mallm.append({\n",
    "        'question': question,\n",
    "        'pronunciation': pronunciation,\n",
    "        'answer': f\"{ABCDE[d_['answer'] - 1]}. {d_['options'][d_['answer'] - 1]}\"\n",
    "    })\n",
    "    \n",
    "len(tatabahasa), len(mallm)"
   ]
  },
  {
   "cell_type": "code",
   "execution_count": 8,
   "id": "5e95b3b9",
   "metadata": {},
   "outputs": [
    {
     "data": {
      "text/plain": [
       "{'question': 'Isi tempat kosong dalam ayat-ayat di bawah dengan jawapan yang paling sesuai. Sang Kancil yang cerdik itu berjaya __________ sungai yang dalam dengan tipu helahnya.\\n\\nA. melepasi\\nB. melangkahi\\nC. mengharungi\\nD. menyeberangi',\n",
       " 'pronunciation': 'Isi tempat kosong dalam ayat-ayat di bawah dengan jawapan yang paling sesuai. Sang Kancil yang cerdik itu berjaya , Tempat Kosong , sungai yang dalam dengan tipu helahnya. Ae , melepasi . Bee , melangkahi . See , mengharungi . Dee , menyeberangi .',\n",
       " 'answer': 'D. menyeberangi'}"
      ]
     },
     "execution_count": 8,
     "metadata": {},
     "output_type": "execute_result"
    }
   ],
   "source": [
    "mallm[-2]"
   ]
  },
  {
   "cell_type": "code",
   "execution_count": 19,
   "id": "477053d6",
   "metadata": {},
   "outputs": [],
   "source": [
    "s = random.sample(speakers, k = len(tatabahasa))\n",
    "\n",
    "for i in range(len(tatabahasa)):\n",
    "    tatabahasa[i]['speaker'] = s[i]\n",
    "    \n",
    "with open('tatabahasa.json', 'w') as fopen:\n",
    "    json.dump(tatabahasa, fopen)"
   ]
  },
  {
   "cell_type": "code",
   "execution_count": 12,
   "id": "53532219",
   "metadata": {},
   "outputs": [],
   "source": [
    "s = random.sample(speakers, k = len(mallm))\n",
    "\n",
    "for i in range(len(mallm)):\n",
    "    mallm[i]['speaker'] = s[i]\n",
    "    \n",
    "with open('mallm.json', 'w') as fopen:\n",
    "    json.dump(mallm, fopen)"
   ]
  },
  {
   "cell_type": "code",
   "execution_count": 13,
   "id": "5d89597e",
   "metadata": {},
   "outputs": [
    {
     "data": {
      "text/plain": [
       "{'question': 'Bahan-bahan manakah adalah bukan elektrolit? I. Etanol, II. Asetamida, III. Plumbum(II), bromida IV. Natrium klorida\\n\\nA. I dan II sahaja\\nB. I dan III sahaja\\nC. II dan IV sahaja\\nD. III dan IV sahaja',\n",
       " 'pronunciation': 'Bahan-bahan manakah adalah bukan elektrolit? I. Etanol, II. Asetamida, III. Plumbum(II), bromida IV. Natrium klorida Ae , I dan II sahaja . Bee , I dan III sahaja . See , II dan IV sahaja . Dee , III dan IV sahaja .',\n",
       " 'answer': 'A. I dan II sahaja',\n",
       " 'speaker': {'audio': 'dedup-parliament/parlimen-24k-chunk_processed_parlimen-24k-LANGSUNG ： Sesi Kamar Khas ｜ Persidangan Dewan Rakyat ｜ 21 Mac 2024 [9KNfI8pn3n4]_000_parlimen-24k-LANGSUNG ： Sesi Kamar Khas ｜ Persidangan Dewan Rakyat ｜ 21 Mac 2024 [9KNfI8pn3n4]_000_103_0.mp3',\n",
       "  'transcription': 'Sindang Bahat. Paket kerja kosong lapan, Singkong Fleet, JV, Sindang Bahat. Paket kerja, sepuluh, ah, satu kosong, eh, sepuluh.'}}"
      ]
     },
     "execution_count": 13,
     "metadata": {},
     "output_type": "execute_result"
    }
   ],
   "source": [
    "mallm[1284]"
   ]
  },
  {
   "cell_type": "code",
   "execution_count": null,
   "id": "ecef8b3b",
   "metadata": {},
   "outputs": [],
   "source": []
  }
 ],
 "metadata": {
  "kernelspec": {
   "display_name": "python3.10",
   "language": "python",
   "name": "python3.10"
  },
  "language_info": {
   "codemirror_mode": {
    "name": "ipython",
    "version": 3
   },
   "file_extension": ".py",
   "mimetype": "text/x-python",
   "name": "python",
   "nbconvert_exporter": "python",
   "pygments_lexer": "ipython3",
   "version": "3.10.15"
  }
 },
 "nbformat": 4,
 "nbformat_minor": 5
}
