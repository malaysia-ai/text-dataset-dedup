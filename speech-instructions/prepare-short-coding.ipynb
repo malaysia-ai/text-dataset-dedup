{
 "cells": [
  {
   "cell_type": "code",
   "execution_count": 5,
   "id": "74129913",
   "metadata": {},
   "outputs": [
    {
     "data": {
      "text/html": [
       "<div>\n",
       "<style scoped>\n",
       "    .dataframe tbody tr th:only-of-type {\n",
       "        vertical-align: middle;\n",
       "    }\n",
       "\n",
       "    .dataframe tbody tr th {\n",
       "        vertical-align: top;\n",
       "    }\n",
       "\n",
       "    .dataframe thead th {\n",
       "        text-align: right;\n",
       "    }\n",
       "</style>\n",
       "<table border=\"1\" class=\"dataframe\">\n",
       "  <thead>\n",
       "    <tr style=\"text-align: right;\">\n",
       "      <th></th>\n",
       "      <th>question</th>\n",
       "      <th>answer</th>\n",
       "      <th>keyword</th>\n",
       "    </tr>\n",
       "  </thead>\n",
       "  <tbody>\n",
       "    <tr>\n",
       "      <th>0</th>\n",
       "      <td>Bagaimana kita boleh menggunakan Swift untuk m...</td>\n",
       "      <td>Untuk membangunkan aplikasi yang boleh membaca...</td>\n",
       "      <td>swift</td>\n",
       "    </tr>\n",
       "    <tr>\n",
       "      <th>1</th>\n",
       "      <td>Bagaimanakah anda boleh menggunakan PySpark un...</td>\n",
       "      <td>PySpark adalah perpustakaan Python yang membol...</td>\n",
       "      <td>pyspark</td>\n",
       "    </tr>\n",
       "    <tr>\n",
       "      <th>2</th>\n",
       "      <td>Bagaimanakah saya boleh menghantar data dalam ...</td>\n",
       "      <td>Untuk menghantar data dalam permintaan POST me...</td>\n",
       "      <td>python request</td>\n",
       "    </tr>\n",
       "    <tr>\n",
       "      <th>3</th>\n",
       "      <td>Bagaimanakah cara menggunakan jQuery untuk ber...</td>\n",
       "      <td>jQuery adalah perpustakaan JavaScript yang men...</td>\n",
       "      <td>jquery</td>\n",
       "    </tr>\n",
       "    <tr>\n",
       "      <th>4</th>\n",
       "      <td>Bagaimanakah kita menggunakan perintah SQL TRU...</td>\n",
       "      <td>Untuk menggunakan perintah SQL `TRUNCATE TABLE...</td>\n",
       "      <td>mysql</td>\n",
       "    </tr>\n",
       "  </tbody>\n",
       "</table>\n",
       "</div>"
      ],
      "text/plain": [
       "                                            question  \\\n",
       "0  Bagaimana kita boleh menggunakan Swift untuk m...   \n",
       "1  Bagaimanakah anda boleh menggunakan PySpark un...   \n",
       "2  Bagaimanakah saya boleh menghantar data dalam ...   \n",
       "3  Bagaimanakah cara menggunakan jQuery untuk ber...   \n",
       "4  Bagaimanakah kita menggunakan perintah SQL TRU...   \n",
       "\n",
       "                                              answer         keyword  \n",
       "0  Untuk membangunkan aplikasi yang boleh membaca...           swift  \n",
       "1  PySpark adalah perpustakaan Python yang membol...         pyspark  \n",
       "2  Untuk menghantar data dalam permintaan POST me...  python request  \n",
       "3  jQuery adalah perpustakaan JavaScript yang men...          jquery  \n",
       "4  Untuk menggunakan perintah SQL `TRUNCATE TABLE...           mysql  "
      ]
     },
     "execution_count": 5,
     "metadata": {},
     "output_type": "execute_result"
    }
   ],
   "source": [
    "import pandas as pd\n",
    "\n",
    "df = pd.read_parquet('../malaysian-short-instructions/short-coding.parquet')\n",
    "df.head()"
   ]
  },
  {
   "cell_type": "code",
   "execution_count": 12,
   "id": "7b803035",
   "metadata": {},
   "outputs": [],
   "source": [
    "import re\n",
    "\n",
    "data = []\n",
    "for i in range(len(df)):\n",
    "    data.append({\n",
    "        'question': df['question'].iloc[i],\n",
    "        'pronunciation': re.sub(r'[ ]+', ' ', df['question'].iloc[i].replace('.', ' ')).strip(),\n",
    "        'answer': df['answer'].iloc[i],\n",
    "    })"
   ]
  },
  {
   "cell_type": "code",
   "execution_count": 13,
   "id": "ae9842b2",
   "metadata": {},
   "outputs": [
    {
     "data": {
      "text/plain": [
       "56972"
      ]
     },
     "execution_count": 13,
     "metadata": {},
     "output_type": "execute_result"
    }
   ],
   "source": [
    "len(data)"
   ]
  },
  {
   "cell_type": "code",
   "execution_count": 14,
   "id": "3bc14b60",
   "metadata": {},
   "outputs": [
    {
     "data": {
      "text/plain": [
       "411637"
      ]
     },
     "execution_count": 14,
     "metadata": {},
     "output_type": "execute_result"
    }
   ],
   "source": [
    "speakers = pd.read_parquet('dedup-malaysian-others.parquet').to_dict(orient = 'records')\n",
    "len(speakers)"
   ]
  },
  {
   "cell_type": "code",
   "execution_count": 17,
   "id": "24e4e1fa",
   "metadata": {},
   "outputs": [],
   "source": [
    "import random\n",
    "\n",
    "s = random.sample(speakers, k = len(data))\n",
    "\n",
    "for i in range(len(data)):\n",
    "    data[i]['speaker'] = s[i]"
   ]
  },
  {
   "cell_type": "code",
   "execution_count": 20,
   "id": "5fed291b",
   "metadata": {},
   "outputs": [
    {
     "data": {
      "text/plain": [
       "18990.666666666668"
      ]
     },
     "execution_count": 20,
     "metadata": {},
     "output_type": "execute_result"
    }
   ],
   "source": [
    "len(data) / 3"
   ]
  },
  {
   "cell_type": "code",
   "execution_count": 22,
   "id": "a5b14e6e",
   "metadata": {},
   "outputs": [],
   "source": [
    "import json\n",
    "\n",
    "batch_size = 18991\n",
    "index = 0\n",
    "for i in range(0, len(data), batch_size):\n",
    "    with open(f'short-coding-{index}.json', 'w') as fopen:\n",
    "        json.dump(data[i: i + batch_size], fopen)\n",
    "    index += 1"
   ]
  },
  {
   "cell_type": "code",
   "execution_count": null,
   "id": "281e1b6b",
   "metadata": {},
   "outputs": [],
   "source": []
  }
 ],
 "metadata": {
  "kernelspec": {
   "display_name": "python3.10",
   "language": "python",
   "name": "python3.10"
  },
  "language_info": {
   "codemirror_mode": {
    "name": "ipython",
    "version": 3
   },
   "file_extension": ".py",
   "mimetype": "text/x-python",
   "name": "python",
   "nbconvert_exporter": "python",
   "pygments_lexer": "ipython3",
   "version": "3.10.15"
  }
 },
 "nbformat": 4,
 "nbformat_minor": 5
}
