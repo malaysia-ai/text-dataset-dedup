{
 "cells": [
  {
   "cell_type": "code",
   "execution_count": 1,
   "id": "dfa8e58b",
   "metadata": {},
   "outputs": [],
   "source": [
    "import os\n",
    "import zipfile\n",
    "import mp\n",
    "from datetime import datetime\n",
    "from glob import glob\n",
    "from tqdm import tqdm\n",
    "from huggingface_hub import HfApi\n",
    "from huggingface_hub import HfFileSystem\n",
    "import time\n",
    "\n",
    "partition_size = 3e+9"
   ]
  },
  {
   "cell_type": "code",
   "execution_count": 2,
   "id": "c151172c",
   "metadata": {},
   "outputs": [
    {
     "name": "stdout",
     "output_type": "stream",
     "text": [
      "15G\tdedup-others\r\n"
     ]
    }
   ],
   "source": [
    "!du -hs dedup-others"
   ]
  },
  {
   "cell_type": "code",
   "execution_count": 3,
   "id": "9a35efe0",
   "metadata": {},
   "outputs": [
    {
     "data": {
      "text/plain": [
       "411637"
      ]
     },
     "execution_count": 3,
     "metadata": {},
     "output_type": "execute_result"
    }
   ],
   "source": [
    "files = glob('dedup-others/*.mp3')\n",
    "len(files)"
   ]
  },
  {
   "cell_type": "code",
   "execution_count": 4,
   "id": "fc8fb055",
   "metadata": {},
   "outputs": [],
   "source": [
    "def loop(files):\n",
    "    files, index = files\n",
    "    current_index = 0\n",
    "    api = HfApi()\n",
    "    fs = HfFileSystem()\n",
    "    total = 0\n",
    "    temp = []\n",
    "    for i in tqdm(range(len(files))):\n",
    "        s = os.stat(files[i]).st_size\n",
    "        if s + total >= partition_size:\n",
    "            part_name = f\"dedup-others-{index}-{current_index}.zip\"\n",
    "                \n",
    "            with zipfile.ZipFile(part_name, 'w', zipfile.ZIP_DEFLATED) as zipf:\n",
    "                for f in temp:\n",
    "                    zipf.write(f, arcname=f)\n",
    "\n",
    "            while True:\n",
    "                try:\n",
    "                    api.upload_file(\n",
    "                        path_or_fileobj=part_name,\n",
    "                        path_in_repo=part_name,\n",
    "                        repo_id=\"malaysia-ai/dedup-Malaysian-Emilia\",\n",
    "                        repo_type=\"dataset\",\n",
    "                    )\n",
    "                    break\n",
    "                except:\n",
    "                    time.sleep(60)\n",
    "\n",
    "            os.remove(part_name)\n",
    "            \n",
    "            current_index += 1\n",
    "            temp = [files[i]]\n",
    "            total = s\n",
    "        else:\n",
    "            temp.append(files[i])\n",
    "            total += s\n",
    "        \n",
    "    if len(temp):\n",
    "        part_name = f\"dedup-others-{index}-{current_index}.zip\"\n",
    "\n",
    "        with zipfile.ZipFile(part_name, 'w', zipfile.ZIP_DEFLATED) as zipf:\n",
    "            for f in temp:\n",
    "                zipf.write(f, arcname=f)\n",
    "\n",
    "        while True:\n",
    "            try:\n",
    "                api.upload_file(\n",
    "                    path_or_fileobj=part_name,\n",
    "                    path_in_repo=part_name,\n",
    "                    repo_id=\"malaysia-ai/dedup-Malaysian-Emilia\",\n",
    "                    repo_type=\"dataset\",\n",
    "                )\n",
    "                break\n",
    "            except:\n",
    "                time.sleep(60)\n",
    "\n",
    "        os.remove(part_name)"
   ]
  },
  {
   "cell_type": "code",
   "execution_count": 5,
   "id": "ec2587d3",
   "metadata": {},
   "outputs": [
    {
     "name": "stderr",
     "output_type": "stream",
     "text": [
      "100%|█████████████████████████████████████████████████████████████████████████████████| 1000/1000 [00:00<00:00, 358150.80it/s]\n"
     ]
    },
    {
     "data": {
      "application/vnd.jupyter.widget-view+json": {
       "model_id": "2c05897f61774db28aa4e365951b7b5a",
       "version_major": 2,
       "version_minor": 0
      },
      "text/plain": [
       "dedup-others-0-0.zip:   0%|          | 0.00/34.7M [00:00<?, ?B/s]"
      ]
     },
     "metadata": {},
     "output_type": "display_data"
    }
   ],
   "source": [
    "loop((files[:1000], 0))"
   ]
  },
  {
   "cell_type": "code",
   "execution_count": 6,
   "id": "b33620f9",
   "metadata": {},
   "outputs": [
    {
     "name": "stderr",
     "output_type": "stream",
     "text": [
      "100%|███████████████████████████████████████████████████████████████████████████████| 41163/41163 [00:00<00:00, 159643.50it/s]\n",
      "100%|███████████████████████████████████████████████████████████████████████████████| 41163/41163 [00:00<00:00, 148008.24it/s]\n",
      "100%|███████████████████████████████████████████████████████████████████████████████| 41163/41163 [00:00<00:00, 120715.62it/s]\n",
      "100%|███████████████████████████████████████████████████████████████████████████████| 41163/41163 [00:00<00:00, 206196.19it/s]\n",
      "100%|███████████████████████████████████████████████████████████████████████████████| 41163/41163 [00:00<00:00, 223430.82it/s]\n",
      "100%|███████████████████████████████████████████████████████████████████████████████| 41163/41163 [00:00<00:00, 125269.83it/s]\n",
      "100%|███████████████████████████████████████████████████████████████████████████████| 41163/41163 [00:00<00:00, 217000.48it/s]\n",
      "100%|███████████████████████████████████████████████████████████████████████████████| 41163/41163 [00:00<00:00, 182682.12it/s]\n",
      "100%|███████████████████████████████████████████████████████████████████████████████| 41163/41163 [00:00<00:00, 254992.22it/s]\n",
      "100%|███████████████████████████████████████████████████████████████████████████████| 41163/41163 [00:00<00:00, 133537.11it/s]\n"
     ]
    },
    {
     "data": {
      "application/vnd.jupyter.widget-view+json": {
       "model_id": "9cd4f588296b4df592a2c6ab633b65ac",
       "version_major": 2,
       "version_minor": 0
      },
      "text/plain": [
       "dedup-others-0-0.zip:   0%|          | 0.00/1.42G [00:00<?, ?B/s]"
      ]
     },
     "metadata": {},
     "output_type": "display_data"
    },
    {
     "data": {
      "application/vnd.jupyter.widget-view+json": {
       "model_id": "a4bc0b8ed1634461bf51704d7f3aeeb6",
       "version_major": 2,
       "version_minor": 0
      },
      "text/plain": [
       "dedup-others-3-0.zip:   0%|          | 0.00/1.42G [00:00<?, ?B/s]"
      ]
     },
     "metadata": {},
     "output_type": "display_data"
    },
    {
     "data": {
      "application/vnd.jupyter.widget-view+json": {
       "model_id": "2be72e87d78a466792eb2f341a41a5ec",
       "version_major": 2,
       "version_minor": 0
      },
      "text/plain": [
       "dedup-others-7-0.zip:   0%|          | 0.00/1.42G [00:00<?, ?B/s]"
      ]
     },
     "metadata": {},
     "output_type": "display_data"
    },
    {
     "data": {
      "application/vnd.jupyter.widget-view+json": {
       "model_id": "84ff8ebadbe74898b8e7eee325be883c",
       "version_major": 2,
       "version_minor": 0
      },
      "text/plain": [
       "dedup-others-6-0.zip:   0%|          | 0.00/1.42G [00:00<?, ?B/s]"
      ]
     },
     "metadata": {},
     "output_type": "display_data"
    },
    {
     "data": {
      "application/vnd.jupyter.widget-view+json": {
       "model_id": "977011c1456c45ad9e7b1fc967344716",
       "version_major": 2,
       "version_minor": 0
      },
      "text/plain": [
       "dedup-others-8-0.zip:   0%|          | 0.00/1.42G [00:00<?, ?B/s]"
      ]
     },
     "metadata": {},
     "output_type": "display_data"
    },
    {
     "data": {
      "application/vnd.jupyter.widget-view+json": {
       "model_id": "ab05b913ea5d46d1be374d3ecac45003",
       "version_major": 2,
       "version_minor": 0
      },
      "text/plain": [
       "dedup-others-4-0.zip:   0%|          | 0.00/1.42G [00:00<?, ?B/s]"
      ]
     },
     "metadata": {},
     "output_type": "display_data"
    },
    {
     "data": {
      "application/vnd.jupyter.widget-view+json": {
       "model_id": "6f8660fdff6941d79477f210677afab7",
       "version_major": 2,
       "version_minor": 0
      },
      "text/plain": [
       "dedup-others-9-0.zip:   0%|          | 0.00/1.41G [00:00<?, ?B/s]"
      ]
     },
     "metadata": {},
     "output_type": "display_data"
    },
    {
     "data": {
      "application/vnd.jupyter.widget-view+json": {
       "model_id": "3bf4597821844596adfbd47ff19469f4",
       "version_major": 2,
       "version_minor": 0
      },
      "text/plain": [
       "dedup-others-2-0.zip:   0%|          | 0.00/1.42G [00:00<?, ?B/s]"
      ]
     },
     "metadata": {},
     "output_type": "display_data"
    },
    {
     "data": {
      "application/vnd.jupyter.widget-view+json": {
       "model_id": "eab61ac12e9e4d86958c314e6ee23b87",
       "version_major": 2,
       "version_minor": 0
      },
      "text/plain": [
       "dedup-others-1-0.zip:   0%|          | 0.00/1.42G [00:00<?, ?B/s]"
      ]
     },
     "metadata": {},
     "output_type": "display_data"
    },
    {
     "data": {
      "application/vnd.jupyter.widget-view+json": {
       "model_id": "1244b689fcbd447b8de873a18408798c",
       "version_major": 2,
       "version_minor": 0
      },
      "text/plain": [
       "dedup-others-5-0.zip:   0%|          | 0.00/1.42G [00:00<?, ?B/s]"
      ]
     },
     "metadata": {},
     "output_type": "display_data"
    },
    {
     "name": "stderr",
     "output_type": "stream",
     "text": [
      "100%|████████████████████████████████████████████████████████████████████████████████████████| 7/7 [00:00<00:00, 59554.01it/s]\n"
     ]
    },
    {
     "data": {
      "application/vnd.jupyter.widget-view+json": {
       "model_id": "576de9890fdc4cd580b450760b43d9e1",
       "version_major": 2,
       "version_minor": 0
      },
      "text/plain": [
       "dedup-others-10-0.zip:   0%|          | 0.00/192k [00:00<?, ?B/s]"
      ]
     },
     "metadata": {},
     "output_type": "display_data"
    }
   ],
   "source": [
    "mp.multiprocessing(files, loop, cores = 10, returned = False)"
   ]
  },
  {
   "cell_type": "code",
   "execution_count": null,
   "id": "4d5af2f7",
   "metadata": {},
   "outputs": [],
   "source": []
  }
 ],
 "metadata": {
  "kernelspec": {
   "display_name": "python3.10",
   "language": "python",
   "name": "python3.10"
  },
  "language_info": {
   "codemirror_mode": {
    "name": "ipython",
    "version": 3
   },
   "file_extension": ".py",
   "mimetype": "text/x-python",
   "name": "python",
   "nbconvert_exporter": "python",
   "pygments_lexer": "ipython3",
   "version": "3.10.15"
  }
 },
 "nbformat": 4,
 "nbformat_minor": 5
}
