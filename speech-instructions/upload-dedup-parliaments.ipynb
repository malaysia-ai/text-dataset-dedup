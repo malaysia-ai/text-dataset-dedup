{
 "cells": [
  {
   "cell_type": "code",
   "execution_count": 1,
   "id": "8d0d1051",
   "metadata": {},
   "outputs": [],
   "source": [
    "import os\n",
    "import zipfile\n",
    "import mp\n",
    "from datetime import datetime\n",
    "from glob import glob\n",
    "from tqdm import tqdm\n",
    "from huggingface_hub import HfApi\n",
    "from huggingface_hub import HfFileSystem\n",
    "import time\n",
    "\n",
    "partition_size = 3e+9"
   ]
  },
  {
   "cell_type": "code",
   "execution_count": 2,
   "id": "a223f7c4",
   "metadata": {},
   "outputs": [
    {
     "name": "stdout",
     "output_type": "stream",
     "text": [
      "25G\tdedup-parliament\r\n"
     ]
    }
   ],
   "source": [
    "!du -hs dedup-parliament"
   ]
  },
  {
   "cell_type": "code",
   "execution_count": 3,
   "id": "1addca78",
   "metadata": {},
   "outputs": [
    {
     "data": {
      "text/plain": [
       "610804"
      ]
     },
     "execution_count": 3,
     "metadata": {},
     "output_type": "execute_result"
    }
   ],
   "source": [
    "files = glob('dedup-parliament/*.mp3')\n",
    "len(files)"
   ]
  },
  {
   "cell_type": "code",
   "execution_count": 4,
   "id": "0d327b45",
   "metadata": {},
   "outputs": [],
   "source": [
    "def loop(files):\n",
    "    files, index = files\n",
    "    current_index = 0\n",
    "    api = HfApi()\n",
    "    fs = HfFileSystem()\n",
    "    total = 0\n",
    "    temp = []\n",
    "    for i in tqdm(range(len(files))):\n",
    "        s = os.stat(files[i]).st_size\n",
    "        if s + total >= partition_size:\n",
    "            part_name = f\"dedup-parliament-{index}-{current_index}.zip\"\n",
    "                \n",
    "            with zipfile.ZipFile(part_name, 'w', zipfile.ZIP_DEFLATED) as zipf:\n",
    "                for f in temp:\n",
    "                    zipf.write(f, arcname=f)\n",
    "\n",
    "            while True:\n",
    "                try:\n",
    "                    api.upload_file(\n",
    "                        path_or_fileobj=part_name,\n",
    "                        path_in_repo=part_name,\n",
    "                        repo_id=\"malaysia-ai/dedup-Malaysian-Emilia\",\n",
    "                        repo_type=\"dataset\",\n",
    "                    )\n",
    "                    break\n",
    "                except:\n",
    "                    time.sleep(60)\n",
    "\n",
    "            os.remove(part_name)\n",
    "            \n",
    "            current_index += 1\n",
    "            temp = [files[i]]\n",
    "            total = s\n",
    "        else:\n",
    "            temp.append(files[i])\n",
    "            total += s\n",
    "        \n",
    "    if len(temp):\n",
    "        part_name = f\"dedup-parliament-{index}-{current_index}.zip\"\n",
    "\n",
    "        with zipfile.ZipFile(part_name, 'w', zipfile.ZIP_DEFLATED) as zipf:\n",
    "            for f in temp:\n",
    "                zipf.write(f, arcname=f)\n",
    "\n",
    "        while True:\n",
    "            try:\n",
    "                api.upload_file(\n",
    "                    path_or_fileobj=part_name,\n",
    "                    path_in_repo=part_name,\n",
    "                    repo_id=\"malaysia-ai/dedup-Malaysian-Emilia\",\n",
    "                    repo_type=\"dataset\",\n",
    "                )\n",
    "                break\n",
    "            except:\n",
    "                time.sleep(60)\n",
    "\n",
    "        os.remove(part_name)"
   ]
  },
  {
   "cell_type": "code",
   "execution_count": 5,
   "id": "4a02ec4f",
   "metadata": {},
   "outputs": [
    {
     "name": "stderr",
     "output_type": "stream",
     "text": [
      "100%|█████████████████████████████████████████████████████████████████████████████████| 1000/1000 [00:00<00:00, 240692.30it/s]\n"
     ]
    },
    {
     "data": {
      "application/vnd.jupyter.widget-view+json": {
       "model_id": "88e221ed2f0e421890433f39dc7397fc",
       "version_major": 2,
       "version_minor": 0
      },
      "text/plain": [
       "dedup-parliament-0-0.zip:   0%|          | 0.00/41.4M [00:00<?, ?B/s]"
      ]
     },
     "metadata": {},
     "output_type": "display_data"
    }
   ],
   "source": [
    "loop((files[:1000], 0))"
   ]
  },
  {
   "cell_type": "code",
   "execution_count": 6,
   "id": "70afcb09",
   "metadata": {},
   "outputs": [
    {
     "name": "stderr",
     "output_type": "stream",
     "text": [
      "  0%|                                                                                               | 0/61080 [00:00<?, ?it/s]\n",
      "  0%|                                                                                               | 0/61080 [00:00<?, ?it/s]\n",
      "100%|███████████████████████████████████████████████████████████████████████████████| 61080/61080 [00:00<00:00, 387999.16it/s]\n",
      "100%|███████████████████████████████████████████████████████████████████████████████| 61080/61080 [00:00<00:00, 385952.73it/s]\n",
      "100%|███████████████████████████████████████████████████████████████████████████████| 61080/61080 [00:00<00:00, 425323.51it/s]\n",
      "100%|███████████████████████████████████████████████████████████████████████████████| 61080/61080 [00:00<00:00, 255134.38it/s]\n",
      " 25%|████████████████████                                                           | 15473/61080 [00:00<00:00, 151373.39it/s]\n",
      "100%|███████████████████████████████████████████████████████████████████████████████| 61080/61080 [00:00<00:00, 128971.63it/s]\n",
      "100%|███████████████████████████████████████████████████████████████████████████████| 61080/61080 [00:00<00:00, 147900.94it/s]\n",
      "100%|███████████████████████████████████████████████████████████████████████████████| 61080/61080 [00:00<00:00, 145533.80it/s]\n"
     ]
    },
    {
     "data": {
      "application/vnd.jupyter.widget-view+json": {
       "model_id": "a85197f8f748453e91db66b31489ae11",
       "version_major": 2,
       "version_minor": 0
      },
      "text/plain": [
       "dedup-parliament-5-0.zip:   0%|          | 0.00/2.50G [00:00<?, ?B/s]"
      ]
     },
     "metadata": {},
     "output_type": "display_data"
    },
    {
     "data": {
      "application/vnd.jupyter.widget-view+json": {
       "model_id": "5d9a8fd50f4648419737521f601f53d0",
       "version_major": 2,
       "version_minor": 0
      },
      "text/plain": [
       "dedup-parliament-2-0.zip:   0%|          | 0.00/2.51G [00:00<?, ?B/s]"
      ]
     },
     "metadata": {},
     "output_type": "display_data"
    },
    {
     "data": {
      "application/vnd.jupyter.widget-view+json": {
       "model_id": "5a0b9fca83b240edbf6368d67ddcd9b3",
       "version_major": 2,
       "version_minor": 0
      },
      "text/plain": [
       "dedup-parliament-1-0.zip:   0%|          | 0.00/2.50G [00:00<?, ?B/s]"
      ]
     },
     "metadata": {},
     "output_type": "display_data"
    },
    {
     "data": {
      "application/vnd.jupyter.widget-view+json": {
       "model_id": "0ce519a55f454b6586f6a66ea55da13b",
       "version_major": 2,
       "version_minor": 0
      },
      "text/plain": [
       "dedup-parliament-7-0.zip:   0%|          | 0.00/2.51G [00:00<?, ?B/s]"
      ]
     },
     "metadata": {},
     "output_type": "display_data"
    },
    {
     "data": {
      "application/vnd.jupyter.widget-view+json": {
       "model_id": "3057b2ea49be42f2b95f9a3759d7bdda",
       "version_major": 2,
       "version_minor": 0
      },
      "text/plain": [
       "dedup-parliament-8-0.zip:   0%|          | 0.00/2.51G [00:00<?, ?B/s]"
      ]
     },
     "metadata": {},
     "output_type": "display_data"
    },
    {
     "data": {
      "application/vnd.jupyter.widget-view+json": {
       "model_id": "671087d4ab04484fb2008924f0730abf",
       "version_major": 2,
       "version_minor": 0
      },
      "text/plain": [
       "dedup-parliament-9-0.zip:   0%|          | 0.00/2.51G [00:00<?, ?B/s]"
      ]
     },
     "metadata": {},
     "output_type": "display_data"
    },
    {
     "data": {
      "application/vnd.jupyter.widget-view+json": {
       "model_id": "ac22eb0bb3e742ac8e7f2c3c4bdfc124",
       "version_major": 2,
       "version_minor": 0
      },
      "text/plain": [
       "dedup-parliament-6-0.zip:   0%|          | 0.00/2.50G [00:00<?, ?B/s]"
      ]
     },
     "metadata": {},
     "output_type": "display_data"
    },
    {
     "data": {
      "application/vnd.jupyter.widget-view+json": {
       "model_id": "490fcd5ca4fa426fa74ddb3828d39ae0",
       "version_major": 2,
       "version_minor": 0
      },
      "text/plain": [
       "dedup-parliament-0-0.zip:   0%|          | 0.00/2.50G [00:00<?, ?B/s]"
      ]
     },
     "metadata": {},
     "output_type": "display_data"
    },
    {
     "data": {
      "application/vnd.jupyter.widget-view+json": {
       "model_id": "e289485b88a94e7c92ed42f78e5bdf2c",
       "version_major": 2,
       "version_minor": 0
      },
      "text/plain": [
       "dedup-parliament-3-0.zip:   0%|          | 0.00/2.51G [00:00<?, ?B/s]"
      ]
     },
     "metadata": {},
     "output_type": "display_data"
    },
    {
     "data": {
      "application/vnd.jupyter.widget-view+json": {
       "model_id": "1fdaa3c6b88b4b29adb3680ee6f6742d",
       "version_major": 2,
       "version_minor": 0
      },
      "text/plain": [
       "dedup-parliament-4-0.zip:   0%|          | 0.00/2.51G [00:00<?, ?B/s]"
      ]
     },
     "metadata": {},
     "output_type": "display_data"
    },
    {
     "name": "stderr",
     "output_type": "stream",
     "text": [
      "100%|████████████████████████████████████████████████████████████████████████████████████████| 4/4 [00:00<00:00, 38657.18it/s]\n"
     ]
    },
    {
     "data": {
      "application/vnd.jupyter.widget-view+json": {
       "model_id": "772a77b707d24ec2a270e41de7d403e6",
       "version_major": 2,
       "version_minor": 0
      },
      "text/plain": [
       "dedup-parliament-10-0.zip:   0%|          | 0.00/153k [00:00<?, ?B/s]"
      ]
     },
     "metadata": {},
     "output_type": "display_data"
    }
   ],
   "source": [
    "mp.multiprocessing(files, loop, cores = 10, returned = False)"
   ]
  },
  {
   "cell_type": "code",
   "execution_count": null,
   "id": "492ada2e",
   "metadata": {},
   "outputs": [],
   "source": []
  }
 ],
 "metadata": {
  "kernelspec": {
   "display_name": "python3.10",
   "language": "python",
   "name": "python3.10"
  },
  "language_info": {
   "codemirror_mode": {
    "name": "ipython",
    "version": 3
   },
   "file_extension": ".py",
   "mimetype": "text/x-python",
   "name": "python",
   "nbconvert_exporter": "python",
   "pygments_lexer": "ipython3",
   "version": "3.10.15"
  }
 },
 "nbformat": 4,
 "nbformat_minor": 5
}
