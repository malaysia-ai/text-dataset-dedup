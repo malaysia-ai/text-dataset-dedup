{
 "cells": [
  {
   "cell_type": "code",
   "execution_count": 1,
   "id": "843b20a9",
   "metadata": {},
   "outputs": [],
   "source": [
    "import json\n",
    "import pandas as pd\n",
    "import os\n",
    "from tqdm import tqdm\n",
    "from glob import glob\n",
    "from datasets import Dataset, Audio\n",
    "\n",
    "audio = Audio(sampling_rate = 16000)"
   ]
  },
  {
   "cell_type": "code",
   "execution_count": 2,
   "id": "067b707e",
   "metadata": {},
   "outputs": [],
   "source": [
    "with open('instructions-keys.json') as fopen:\n",
    "    instructions = json.load(fopen)"
   ]
  },
  {
   "cell_type": "code",
   "execution_count": 24,
   "id": "35681c7d",
   "metadata": {},
   "outputs": [
    {
     "data": {
      "text/plain": [
       "['partition-instructions-part-0.json',\n",
       " 'partition-instructions-part-2.json',\n",
       " 'partition-instructions-part-4.json',\n",
       " 'partition-instructions-part-5.json',\n",
       " 'partition-instructions-part-3.json',\n",
       " 'partition-instructions-part-1.json',\n",
       " 'partition-instructions-part-17.json']"
      ]
     },
     "execution_count": 24,
     "metadata": {},
     "output_type": "execute_result"
    }
   ],
   "source": [
    "files = glob('partition-instructions-part-*.json')\n",
    "files = [f for f in files if os.path.exists(f.replace('.json', ''))]\n",
    "files"
   ]
  },
  {
   "cell_type": "code",
   "execution_count": 25,
   "id": "603e37d8",
   "metadata": {
    "scrolled": true
   },
   "outputs": [
    {
     "name": "stderr",
     "output_type": "stream",
     "text": [
      "30000it [00:00, 65275.58it/s]\n",
      "30000it [00:00, 34045.39it/s]\n",
      "30000it [00:00, 115190.79it/s]\n",
      "30000it [00:00, 82779.81it/s]\n",
      "30000it [00:00, 63943.60it/s]\n",
      "30000it [00:00, 82808.36it/s] \n",
      "30000it [00:00, 143301.76it/s]\n"
     ]
    },
    {
     "data": {
      "text/plain": [
       "133388"
      ]
     },
     "execution_count": 25,
     "metadata": {},
     "output_type": "execute_result"
    }
   ],
   "source": [
    "filtered = []\n",
    "for f in files:\n",
    "    folder = f.replace('.json', '')\n",
    "    with open(f) as fopen:\n",
    "        data = json.load(fopen)\n",
    "        \n",
    "    for i, d in tqdm(enumerate(data)):\n",
    "        filename = os.path.join(folder, f'{i}.mp3')\n",
    "        if not os.path.exists(filename):\n",
    "            continue\n",
    "        \n",
    "        d['prompt'] = json.dumps(d['prompt'])\n",
    "        d['audio_filename'] = filename\n",
    "        d['dataset'] = instructions.get(d['prompt'])\n",
    "        \n",
    "        filtered.append(d)\n",
    "        \n",
    "len(filtered)"
   ]
  },
  {
   "cell_type": "code",
   "execution_count": 26,
   "id": "0135da8b",
   "metadata": {},
   "outputs": [
    {
     "name": "stderr",
     "output_type": "stream",
     "text": [
      "1284it [00:00, 97458.99it/s]\n"
     ]
    }
   ],
   "source": [
    "with open('tatabahasa.json') as fopen:\n",
    "    tatabahasa = json.load(fopen)\n",
    "    \n",
    "for i, row in tqdm(enumerate(tatabahasa)):\n",
    "    filename = os.path.join('tatabahasa', f'{i}.mp3')\n",
    "    if not os.path.exists(filename):\n",
    "        continue\n",
    "    q = row['question']\n",
    "    if 'IV' in q or 'II' in q:\n",
    "        continue\n",
    "    d = {\n",
    "        'prompt': json.dumps([\n",
    "            {\"role\": \"user\", \"content\": [{\"type\": \"audio\", \"audio_url\": \"audio.wav\"}]},\n",
    "            {'role': 'assistant', 'content': row['answer']},\n",
    "        ]),\n",
    "        'question': row['question'],\n",
    "        'audio_filename': filename,\n",
    "        'dataset': 'tatabahasa',\n",
    "        'speaker': row['speaker']\n",
    "    }\n",
    "    filtered.append(d)"
   ]
  },
  {
   "cell_type": "code",
   "execution_count": 27,
   "id": "873901ce",
   "metadata": {},
   "outputs": [
    {
     "data": {
      "text/plain": [
       "{'prompt': '[{\"role\": \"user\", \"content\": [{\"type\": \"audio\", \"audio_url\": \"audio.wav\"}]}, {\"role\": \"assistant\", \"content\": \"C. dengan, ke\"}]',\n",
       " 'question': 'Isi tempat kosong dalam ayat-ayat di bawah dengan jawapan yang paling sesuai.\\nKami dijangka __________ terlewat sampai __________ Pulau Langkawi kerana kereta mengalami kerosakan.\\n\\nA. dari, di\\nB. akan, di\\nC. akan, dari\\nD. dengan, ke',\n",
       " 'audio_filename': 'tatabahasa/1283.mp3',\n",
       " 'dataset': 'tatabahasa',\n",
       " 'speaker': {'audio': 'dedup-parliament/parlimen-24k-LANGSUNG： Persidangan Dewan Rakyat ｜ Mesyuarat Pertama Penggal Ketiga 7 Mac 2024 ｜ Sesi Petang [RvL2ZIBGkzM]_000_278.mp3',\n",
       "  'transcription': 'Malah, impact-nya turut disedari sendiri oleh yang amat berhormat Perdana Menteri yang menadakan lawatan ke negeri Pulau Pinang pada bulan yang lalu.'}}"
      ]
     },
     "execution_count": 27,
     "metadata": {},
     "output_type": "execute_result"
    }
   ],
   "source": [
    "filtered[-1]"
   ]
  },
  {
   "cell_type": "code",
   "execution_count": 28,
   "id": "37361072",
   "metadata": {},
   "outputs": [
    {
     "name": "stderr",
     "output_type": "stream",
     "text": [
      "6564it [00:00, 144149.55it/s]\n"
     ]
    }
   ],
   "source": [
    "with open('mallm.json') as fopen:\n",
    "    mallm = json.load(fopen)\n",
    "    \n",
    "for i, row in tqdm(enumerate(mallm)):\n",
    "    filename = os.path.join('mallm', f'{i}.mp3')\n",
    "    if not os.path.exists(filename):\n",
    "        continue\n",
    "    q = row['question']\n",
    "    if 'IV' in q or 'II' in q:\n",
    "        continue\n",
    "    d = {\n",
    "        'prompt': json.dumps([\n",
    "            {\"role\": \"user\", \"content\": [{\"type\": \"audio\", \"audio_url\": \"audio.wav\"}]},\n",
    "            {'role': 'assistant', 'content': row['answer']},\n",
    "        ]),\n",
    "        'question': row['question'],\n",
    "        'audio_filename': filename,\n",
    "        'dataset': 'mallm',\n",
    "        'speaker': row['speaker']\n",
    "    }\n",
    "    filtered.append(d)"
   ]
  },
  {
   "cell_type": "code",
   "execution_count": 29,
   "id": "bf69fe5d",
   "metadata": {},
   "outputs": [
    {
     "data": {
      "text/plain": [
       "136257"
      ]
     },
     "execution_count": 29,
     "metadata": {},
     "output_type": "execute_result"
    }
   ],
   "source": [
    "len(filtered)"
   ]
  },
  {
   "cell_type": "code",
   "execution_count": 30,
   "id": "f678df3a",
   "metadata": {},
   "outputs": [
    {
     "data": {
      "text/plain": [
       "{'prompt': '[{\"role\": \"user\", \"content\": [{\"type\": \"audio\", \"audio_url\": \"audio.wav\"}]}, {\"role\": \"assistant\", \"content\": \"A. jerebu\"}]',\n",
       " 'question': 'Berikut adalah kegiatan ekonomi di Malaysia. Perindustrian, Pengangkutan. Kegiatan ekonomi tersebut boleh menyebabkan berlakunya\\n\\nA. jerebu\\nB. banjir kilat\\nC. kemarau\\nD. perubahan angin',\n",
       " 'audio_filename': 'mallm/3933.mp3',\n",
       " 'dataset': 'mallm',\n",
       " 'speaker': {'audio': 'dedup-parliament/parlimen-24k-LANGSUNG ： Persidangan Dewan Negara 16 Ogos 2022 ｜ Sesi Petang [pSD6QGx8GL4]_001_335.mp3',\n",
       "  'transcription': 'Manakala, manakala kapal hilang masih lagi belum siap-siap. Ada, tapi belum siap.'}}"
      ]
     },
     "execution_count": 30,
     "metadata": {},
     "output_type": "execute_result"
    }
   ],
   "source": [
    "filtered[-1]"
   ]
  },
  {
   "cell_type": "code",
   "execution_count": 31,
   "id": "e1b17f77",
   "metadata": {},
   "outputs": [],
   "source": [
    "dataset = Dataset.from_list(filtered)"
   ]
  },
  {
   "cell_type": "code",
   "execution_count": 32,
   "id": "183b34cd",
   "metadata": {},
   "outputs": [
    {
     "data": {
      "text/plain": [
       "Dataset({\n",
       "    features: ['prompt', 'question', 'speaker', 'audio_filename', 'dataset'],\n",
       "    num_rows: 136257\n",
       "})"
      ]
     },
     "execution_count": 32,
     "metadata": {},
     "output_type": "execute_result"
    }
   ],
   "source": [
    "dataset = dataset.cast_column(\"audio_filename\", audio)\n",
    "dataset"
   ]
  },
  {
   "cell_type": "code",
   "execution_count": null,
   "id": "47e925fe",
   "metadata": {},
   "outputs": [
    {
     "data": {
      "application/vnd.jupyter.widget-view+json": {
       "model_id": "342c0cd9ac48471db4835f8904870015",
       "version_major": 2,
       "version_minor": 0
      },
      "text/plain": [
       "Uploading the dataset shards:   0%|          | 0/14 [00:00<?, ?it/s]"
      ]
     },
     "metadata": {},
     "output_type": "display_data"
    },
    {
     "data": {
      "application/vnd.jupyter.widget-view+json": {
       "model_id": "215882a05c244663af8c2508d971c024",
       "version_major": 2,
       "version_minor": 0
      },
      "text/plain": [
       "Map:   0%|          | 0/9733 [00:00<?, ? examples/s]"
      ]
     },
     "metadata": {},
     "output_type": "display_data"
    },
    {
     "data": {
      "application/vnd.jupyter.widget-view+json": {
       "model_id": "4761535bc173463eb3c29d69bb4818e3",
       "version_major": 2,
       "version_minor": 0
      },
      "text/plain": [
       "Creating parquet from Arrow format:   0%|          | 0/98 [00:00<?, ?ba/s]"
      ]
     },
     "metadata": {},
     "output_type": "display_data"
    },
    {
     "data": {
      "application/vnd.jupyter.widget-view+json": {
       "model_id": "a0c5201010144a5aacdfcca93f9c80e7",
       "version_major": 2,
       "version_minor": 0
      },
      "text/plain": [
       "Map:   0%|          | 0/9733 [00:00<?, ? examples/s]"
      ]
     },
     "metadata": {},
     "output_type": "display_data"
    },
    {
     "data": {
      "application/vnd.jupyter.widget-view+json": {
       "model_id": "d833d616bddf45af995993f3bb747f3d",
       "version_major": 2,
       "version_minor": 0
      },
      "text/plain": [
       "Creating parquet from Arrow format:   0%|          | 0/98 [00:00<?, ?ba/s]"
      ]
     },
     "metadata": {},
     "output_type": "display_data"
    },
    {
     "data": {
      "application/vnd.jupyter.widget-view+json": {
       "model_id": "3c6b9690011a47f08fc8a44f668519b1",
       "version_major": 2,
       "version_minor": 0
      },
      "text/plain": [
       "Map:   0%|          | 0/9733 [00:00<?, ? examples/s]"
      ]
     },
     "metadata": {},
     "output_type": "display_data"
    },
    {
     "data": {
      "application/vnd.jupyter.widget-view+json": {
       "model_id": "2ac2dc479f7a4d62a2225bc196a39f1e",
       "version_major": 2,
       "version_minor": 0
      },
      "text/plain": [
       "Creating parquet from Arrow format:   0%|          | 0/98 [00:00<?, ?ba/s]"
      ]
     },
     "metadata": {},
     "output_type": "display_data"
    },
    {
     "data": {
      "application/vnd.jupyter.widget-view+json": {
       "model_id": "fc1f542f842542248b38c7fc9f8503b5",
       "version_major": 2,
       "version_minor": 0
      },
      "text/plain": [
       "Map:   0%|          | 0/9733 [00:00<?, ? examples/s]"
      ]
     },
     "metadata": {},
     "output_type": "display_data"
    },
    {
     "data": {
      "application/vnd.jupyter.widget-view+json": {
       "model_id": "d0a2b049f1f74a90a8e8177b2dfaeee8",
       "version_major": 2,
       "version_minor": 0
      },
      "text/plain": [
       "Creating parquet from Arrow format:   0%|          | 0/98 [00:00<?, ?ba/s]"
      ]
     },
     "metadata": {},
     "output_type": "display_data"
    },
    {
     "data": {
      "application/vnd.jupyter.widget-view+json": {
       "model_id": "e2c3056270f144dc97830df244424b00",
       "version_major": 2,
       "version_minor": 0
      },
      "text/plain": [
       "Map:   0%|          | 0/9733 [00:00<?, ? examples/s]"
      ]
     },
     "metadata": {},
     "output_type": "display_data"
    },
    {
     "data": {
      "application/vnd.jupyter.widget-view+json": {
       "model_id": "e9263623f1e9408fb065409612ab9ce5",
       "version_major": 2,
       "version_minor": 0
      },
      "text/plain": [
       "Creating parquet from Arrow format:   0%|          | 0/98 [00:00<?, ?ba/s]"
      ]
     },
     "metadata": {},
     "output_type": "display_data"
    },
    {
     "data": {
      "application/vnd.jupyter.widget-view+json": {
       "model_id": "b81cf7d918174a86be5c4179f4cf6587",
       "version_major": 2,
       "version_minor": 0
      },
      "text/plain": [
       "Map:   0%|          | 0/9733 [00:00<?, ? examples/s]"
      ]
     },
     "metadata": {},
     "output_type": "display_data"
    },
    {
     "data": {
      "application/vnd.jupyter.widget-view+json": {
       "model_id": "6b3a134a3b4446d6acc8e6fd3ef240cc",
       "version_major": 2,
       "version_minor": 0
      },
      "text/plain": [
       "Creating parquet from Arrow format:   0%|          | 0/98 [00:00<?, ?ba/s]"
      ]
     },
     "metadata": {},
     "output_type": "display_data"
    },
    {
     "data": {
      "application/vnd.jupyter.widget-view+json": {
       "model_id": "1d380bfb361246f6aea5d29ef30c3cb9",
       "version_major": 2,
       "version_minor": 0
      },
      "text/plain": [
       "Map:   0%|          | 0/9733 [00:00<?, ? examples/s]"
      ]
     },
     "metadata": {},
     "output_type": "display_data"
    },
    {
     "data": {
      "application/vnd.jupyter.widget-view+json": {
       "model_id": "c2c5614b3e324ee9a1a009c4e3495ba3",
       "version_major": 2,
       "version_minor": 0
      },
      "text/plain": [
       "Creating parquet from Arrow format:   0%|          | 0/98 [00:00<?, ?ba/s]"
      ]
     },
     "metadata": {},
     "output_type": "display_data"
    },
    {
     "data": {
      "application/vnd.jupyter.widget-view+json": {
       "model_id": "416857b5dc8f4282903465ec69829b4f",
       "version_major": 2,
       "version_minor": 0
      },
      "text/plain": [
       "Map:   0%|          | 0/9733 [00:00<?, ? examples/s]"
      ]
     },
     "metadata": {},
     "output_type": "display_data"
    },
    {
     "data": {
      "application/vnd.jupyter.widget-view+json": {
       "model_id": "e533eea0dc41493f831b30c25c01b796",
       "version_major": 2,
       "version_minor": 0
      },
      "text/plain": [
       "Creating parquet from Arrow format:   0%|          | 0/98 [00:00<?, ?ba/s]"
      ]
     },
     "metadata": {},
     "output_type": "display_data"
    },
    {
     "data": {
      "application/vnd.jupyter.widget-view+json": {
       "model_id": "e4bd94be152040bb84fbdcac6050f38c",
       "version_major": 2,
       "version_minor": 0
      },
      "text/plain": [
       "Map:   0%|          | 0/9733 [00:00<?, ? examples/s]"
      ]
     },
     "metadata": {},
     "output_type": "display_data"
    },
    {
     "data": {
      "application/vnd.jupyter.widget-view+json": {
       "model_id": "2d5a9f036d9240b1b7994de44de5d6c7",
       "version_major": 2,
       "version_minor": 0
      },
      "text/plain": [
       "Creating parquet from Arrow format:   0%|          | 0/98 [00:00<?, ?ba/s]"
      ]
     },
     "metadata": {},
     "output_type": "display_data"
    },
    {
     "data": {
      "application/vnd.jupyter.widget-view+json": {
       "model_id": "6c229f150fa44d4286df01a3731d614d",
       "version_major": 2,
       "version_minor": 0
      },
      "text/plain": [
       "Map:   0%|          | 0/9732 [00:00<?, ? examples/s]"
      ]
     },
     "metadata": {},
     "output_type": "display_data"
    },
    {
     "data": {
      "application/vnd.jupyter.widget-view+json": {
       "model_id": "ecba69c3eb42471ebf8d0f2546e037b0",
       "version_major": 2,
       "version_minor": 0
      },
      "text/plain": [
       "Creating parquet from Arrow format:   0%|          | 0/98 [00:00<?, ?ba/s]"
      ]
     },
     "metadata": {},
     "output_type": "display_data"
    },
    {
     "data": {
      "application/vnd.jupyter.widget-view+json": {
       "model_id": "90dccf7c922c417092092a8019538e91",
       "version_major": 2,
       "version_minor": 0
      },
      "text/plain": [
       "Map:   0%|          | 0/9732 [00:00<?, ? examples/s]"
      ]
     },
     "metadata": {},
     "output_type": "display_data"
    },
    {
     "data": {
      "application/vnd.jupyter.widget-view+json": {
       "model_id": "9c5c608b20dc4f3986ab7d89994b443c",
       "version_major": 2,
       "version_minor": 0
      },
      "text/plain": [
       "Creating parquet from Arrow format:   0%|          | 0/98 [00:00<?, ?ba/s]"
      ]
     },
     "metadata": {},
     "output_type": "display_data"
    },
    {
     "data": {
      "application/vnd.jupyter.widget-view+json": {
       "model_id": "e6aded2d0092469e918230e27c0cbfda",
       "version_major": 2,
       "version_minor": 0
      },
      "text/plain": [
       "Map:   0%|          | 0/9732 [00:00<?, ? examples/s]"
      ]
     },
     "metadata": {},
     "output_type": "display_data"
    },
    {
     "data": {
      "application/vnd.jupyter.widget-view+json": {
       "model_id": "8fe96f56d8c3493591f5d3edad0d0cd9",
       "version_major": 2,
       "version_minor": 0
      },
      "text/plain": [
       "Creating parquet from Arrow format:   0%|          | 0/98 [00:00<?, ?ba/s]"
      ]
     },
     "metadata": {},
     "output_type": "display_data"
    },
    {
     "data": {
      "application/vnd.jupyter.widget-view+json": {
       "model_id": "31186a263ded429c8275083864d18212",
       "version_major": 2,
       "version_minor": 0
      },
      "text/plain": [
       "Map:   0%|          | 0/9732 [00:00<?, ? examples/s]"
      ]
     },
     "metadata": {},
     "output_type": "display_data"
    },
    {
     "data": {
      "application/vnd.jupyter.widget-view+json": {
       "model_id": "76fab224f3a542b695a55b5444de9d9e",
       "version_major": 2,
       "version_minor": 0
      },
      "text/plain": [
       "Creating parquet from Arrow format:   0%|          | 0/98 [00:00<?, ?ba/s]"
      ]
     },
     "metadata": {},
     "output_type": "display_data"
    }
   ],
   "source": [
    "dataset.push_to_hub('malaysia-ai/Speech-Instructions')"
   ]
  },
  {
   "cell_type": "code",
   "execution_count": null,
   "id": "4a491507",
   "metadata": {},
   "outputs": [],
   "source": [
    "from huggingface_hub import HfApi\n",
    "api = HfApi()\n",
    "api.upload_file(\n",
    "    path_or_fileobj=\"partition-instructions-part-3.json\",\n",
    "    path_in_repo=\"text/partition-instructions-part-3.json\",\n",
    "    repo_id=\"malaysia-ai/Speech-Instructions\",\n",
    "    repo_type=\"dataset\",\n",
    ")"
   ]
  },
  {
   "cell_type": "code",
   "execution_count": null,
   "id": "03f1d329",
   "metadata": {},
   "outputs": [],
   "source": [
    "api.upload_file(\n",
    "    path_or_fileobj=\"partition-instructions-part-4.json\",\n",
    "    path_in_repo=\"text/partition-instructions-part-4.json\",\n",
    "    repo_id=\"malaysia-ai/Speech-Instructions\",\n",
    "    repo_type=\"dataset\",\n",
    ")"
   ]
  },
  {
   "cell_type": "code",
   "execution_count": null,
   "id": "1d96e3e4",
   "metadata": {},
   "outputs": [],
   "source": [
    "api.upload_file(\n",
    "    path_or_fileobj=\"partition-instructions-part-5.json\",\n",
    "    path_in_repo=\"text/partition-instructions-part-5.json\",\n",
    "    repo_id=\"malaysia-ai/Speech-Instructions\",\n",
    "    repo_type=\"dataset\",\n",
    ")"
   ]
  },
  {
   "cell_type": "code",
   "execution_count": null,
   "id": "7b55c61b",
   "metadata": {},
   "outputs": [],
   "source": [
    "api.upload_file(\n",
    "    path_or_fileobj=\"partition-instructions-part-6.json\",\n",
    "    path_in_repo=\"text/partition-instructions-part-6.json\",\n",
    "    repo_id=\"malaysia-ai/Speech-Instructions\",\n",
    "    repo_type=\"dataset\",\n",
    ")"
   ]
  },
  {
   "cell_type": "code",
   "execution_count": null,
   "id": "cf4ae078",
   "metadata": {},
   "outputs": [],
   "source": []
  }
 ],
 "metadata": {
  "kernelspec": {
   "display_name": "python3.10",
   "language": "python",
   "name": "python3.10"
  },
  "language_info": {
   "codemirror_mode": {
    "name": "ipython",
    "version": 3
   },
   "file_extension": ".py",
   "mimetype": "text/x-python",
   "name": "python",
   "nbconvert_exporter": "python",
   "pygments_lexer": "ipython3",
   "version": "3.10.15"
  }
 },
 "nbformat": 4,
 "nbformat_minor": 5
}
